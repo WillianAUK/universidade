{
 "cells": [
  {
   "cell_type": "markdown",
   "metadata": {},
   "source": [
    "### Exercício da Semana 2\n",
    "- Aluno: Willian Adrinao Ullmann Klein"
   ]
  },
  {
   "cell_type": "markdown",
   "metadata": {},
   "source": [
    "#### Questões\n",
    "1 - Como importar a biblioteca numpy e verificar a versão utilizada?"
   ]
  },
  {
   "cell_type": "code",
   "execution_count": 1,
   "metadata": {},
   "outputs": [],
   "source": [
    "# importar a biblioteca\n",
    "import numpy as np"
   ]
  },
  {
   "cell_type": "code",
   "execution_count": 2,
   "metadata": {},
   "outputs": [
    {
     "data": {
      "text/plain": [
       "'1.18.5'"
      ]
     },
     "execution_count": 2,
     "metadata": {},
     "output_type": "execute_result"
    }
   ],
   "source": [
    "# versão utilizada\n",
    "np.version.version"
   ]
  },
  {
   "cell_type": "markdown",
   "metadata": {},
   "source": [
    "####  2. Explique, com suas palavras, os conceitos de vetorização e broadcasting que Numpy implementa."
   ]
  },
  {
   "cell_type": "markdown",
   "metadata": {},
   "source": [
    "- Vetorização: É uma maneira de criar arrays através de funções NumPy que facilita o trabalho com estruturas de arrays. Um dos pontos masi significativos, se baseia em otimizar e deixar mais limpor seu código, evitando a codificação de loops desnecessários ou de baixo desenpenho, economizando assim recursos computacionais.\n",
    "- Broadcasting: É uma ferramenta NumPy que nos permite realizar operações entre arrays com formas diferentes, desde que sejam compatíveis entre si de certas maneiras. Nos permite realizar somas, subtrações, potencias e operações entre arrays, facilitando o trabalho com os dados. "
   ]
  },
  {
   "cell_type": "markdown",
   "metadata": {},
   "source": [
    "#### 3. Liste as diferenças entre uma lista, um dicionário, um array numpy, dando exemplos de aplicação de em que cada tipo seria mais interessante\n"
   ]
  },
  {
   "cell_type": "markdown",
   "metadata": {},
   "source": [
    "- Lista: São estruturas em python que podem abrigar diferentes valores, de diferentes tipos de dados, mas graças a isso, torna-se limitada em operações com os itens internos."
   ]
  },
  {
   "cell_type": "code",
   "execution_count": 3,
   "metadata": {},
   "outputs": [
    {
     "name": "stdout",
     "output_type": "stream",
     "text": [
      "Lista:  ['a', 1, -5, 0.1, '8']\n",
      "Muitiplicação por 2: ['a', 1, -5, 0.1, '8', 'a', 1, -5, 0.1, '8']\n"
     ]
    }
   ],
   "source": [
    "# Lista:\n",
    "lista = [\"a\", 1, -5, 0.1, '8']\n",
    "print(\"Lista: \", lista)\n",
    "print(\"Muitiplicação por 2:\", lista*2)"
   ]
  },
  {
   "cell_type": "markdown",
   "metadata": {},
   "source": [
    "- Dicionário: São listas em python, porém cada elemento que compõe a lista é composto por 2 valores, 1 sendo o conteúdo e o outro sendo a chave que corresponde esse conteúdo. Dicionários são uteis para relacionar 2 valores em uma mesma lista, trabalhar com varáveis que possuem referências."
   ]
  },
  {
   "cell_type": "code",
   "execution_count": 4,
   "metadata": {},
   "outputs": [
    {
     "name": "stdout",
     "output_type": "stream",
     "text": [
      "Número de A na frase:  15\n",
      "Número de D na frase:  8\n",
      "Letras na contagem:  dict_keys(['a', 'b', 'c', 'd', 'e'])\n",
      "Letra f está na contagem?  False\n",
      "Letra c está na contagem?  True\n",
      "alguma letra foi contada 8 vezes?  True\n",
      "alguma letra foi contada 20 vezes?  False\n"
     ]
    }
   ],
   "source": [
    "# Dicionário: No exemplo um dicionário onde a chave são as letras e o conteúdo \n",
    "# são números de vezes que apareceram em uma frase:\n",
    "\n",
    "dicionario = {'a':15, 'b':6, 'c':2, 'd':8, 'e':8}\n",
    "\n",
    "print(\"Número de A na frase: \", dicionario['a'])\n",
    "print(\"Número de D na frase: \", dicionario['d'])\n",
    "print(\"Letras na contagem: \", dicionario.keys())\n",
    "print(\"Letra f está na contagem? \", \"f\" in dicionario.keys())\n",
    "print(\"Letra c está na contagem? \", \"c\" in dicionario.keys())\n",
    "print(\"alguma letra foi contada 8 vezes? \", 8 in dicionario.values())\n",
    "print(\"alguma letra foi contada 20 vezes? \", 20 in dicionario.values())\n"
   ]
  },
  {
   "cell_type": "markdown",
   "metadata": {},
   "source": [
    "- Array Numpy: Objeto da biblioteca NumPy que simula as listas, dedicadas principalmente ao uso ciêntífico pois é otimizado, possui operações que podem ser realizadas entre si, comparitivamente e não aceitam diferentes tipos de dados ao mesmo tempo como acontece com as listas padrões de python. Quando são criadas, podem até receber diferentes tipos de dados, porém serão convertidos de acordo a hieraquia de preferencia de dados, assumindo assim o array não um tipo list, mas sim o tipo dos dados que armazena."
   ]
  },
  {
   "cell_type": "code",
   "execution_count": 5,
   "metadata": {},
   "outputs": [
    {
     "name": "stdout",
     "output_type": "stream",
     "text": [
      "Array:  [1.  7.5 6.  5. ]\n",
      "Tipo do array:  float64\n",
      "Multiplicação por 2 dos componentes do array:  [ 2. 15. 12. 10.]\n",
      "Soma dos componentes do array por 5:  [ 6.  12.5 11.  10. ]\n",
      "Quadrado de cada componente  [ 1.   56.25 36.   25.  ]\n",
      "Tranformar de uma lista para uma matriz 2x2 \n",
      " [[1.  7.5]\n",
      " [6.  5. ]]\n"
     ]
    }
   ],
   "source": [
    "# Array Numpy: No exemplo, 2 tipos de dados são inserido, inteiros e floats, porém serão todos convertidos em float, \n",
    "# dada a natureza de preferencia float>int.\n",
    "\n",
    "arraynumpy = np.array([1, 7.5, 6, 5])\n",
    "\n",
    "print(\"Array: \", arraynumpy)\n",
    "print(\"Tipo do array: \", arraynumpy.dtype)\n",
    "print(\"Multiplicação por 2 dos componentes do array: \", arraynumpy*2)\n",
    "print(\"Soma dos componentes do array por 5: \", arraynumpy+5)\n",
    "print(\"Quadrado de cada componente \", arraynumpy**2)\n",
    "print(\"Tranformar de uma lista para uma matriz 2x2 \\n\", arraynumpy.reshape(2,2))"
   ]
  },
  {
   "cell_type": "markdown",
   "metadata": {},
   "source": [
    "#### 4. Forme a matriz\n",
    "\n",
    "[[1, 6, 11],\n",
    "\n",
    "[2, 7, 12],\n",
    "\n",
    "[3, 8, 13],\n",
    "\n",
    "[4, 9, 14],\n",
    "\n",
    "[5, 10, 15]]\n",
    "\n",
    "\n",
    "usando lista e array Numpy."
   ]
  },
  {
   "cell_type": "markdown",
   "metadata": {},
   "source": [
    " - Usando lista:"
   ]
  },
  {
   "cell_type": "code",
   "execution_count": 6,
   "metadata": {},
   "outputs": [
    {
     "data": {
      "text/plain": [
       "[1, 2, 3, 4, 5, 6, 7, 8, 9, 10, 11, 12, 13, 14, 15]"
      ]
     },
     "execution_count": 6,
     "metadata": {},
     "output_type": "execute_result"
    }
   ],
   "source": [
    "lista = []\n",
    "for i in range(15):\n",
    "    lista.append(i+1)\n",
    "\n",
    "lista"
   ]
  },
  {
   "cell_type": "code",
   "execution_count": 7,
   "metadata": {},
   "outputs": [
    {
     "data": {
      "text/plain": [
       "[[1, 6, 11], [2, 7, 12], [3, 8, 13], [4, 9, 14], [5, 10, 15]]"
      ]
     },
     "execution_count": 7,
     "metadata": {},
     "output_type": "execute_result"
    }
   ],
   "source": [
    "matriz = []\n",
    "\n",
    "for l in range(5):\n",
    "    matriz.append([])\n",
    "\n",
    "for i in lista:\n",
    "    if((i % 5) == 1):\n",
    "        matriz[0].append(i)\n",
    "    elif((i % 5) == 2):\n",
    "        matriz[1].append(i)\n",
    "    elif((i % 5) == 3):\n",
    "        matriz[2].append(i)\n",
    "    elif((i % 5) == 4):\n",
    "        matriz[3].append(i)\n",
    "    elif((i % 5) == 0):\n",
    "        matriz[4].append(i)\n",
    "\n",
    "matriz"
   ]
  },
  {
   "cell_type": "markdown",
   "metadata": {},
   "source": [
    "- Usando array:"
   ]
  },
  {
   "cell_type": "code",
   "execution_count": 8,
   "metadata": {},
   "outputs": [
    {
     "data": {
      "text/plain": [
       "array([ 1,  6, 11,  2,  7, 12,  3,  8, 13,  4,  9, 14,  5, 10, 15])"
      ]
     },
     "execution_count": 8,
     "metadata": {},
     "output_type": "execute_result"
    }
   ],
   "source": [
    "# Com array pronto;\n",
    "array_direto = np.array([ 1, 6, 11, 2, 7, 12, 3, 8, 13, 4, 9, 14, 5, 10, 15])\n",
    "array_direto"
   ]
  },
  {
   "cell_type": "code",
   "execution_count": 9,
   "metadata": {},
   "outputs": [
    {
     "data": {
      "text/plain": [
       "array([[ 1,  6, 11],\n",
       "       [ 2,  7, 12],\n",
       "       [ 3,  8, 13],\n",
       "       [ 4,  9, 14],\n",
       "       [ 5, 10, 15]])"
      ]
     },
     "execution_count": 9,
     "metadata": {},
     "output_type": "execute_result"
    }
   ],
   "source": [
    "# Trandforma em matriz usando reshape()\n",
    "matriz_direto = array_direto.reshape(5,3)\n",
    "matriz_direto"
   ]
  },
  {
   "cell_type": "code",
   "execution_count": 10,
   "metadata": {},
   "outputs": [
    {
     "data": {
      "text/plain": [
       "array([1., 1., 1., 1., 1., 1., 1., 1., 1., 1., 1., 1., 1., 1., 1.])"
      ]
     },
     "execution_count": 10,
     "metadata": {},
     "output_type": "execute_result"
    }
   ],
   "source": [
    "# Usando array Numpy como np.linspace()\n",
    "\n",
    "array_lins = np.linspace(1,1,15)\n",
    "array_lins"
   ]
  },
  {
   "cell_type": "code",
   "execution_count": 11,
   "metadata": {},
   "outputs": [
    {
     "data": {
      "text/plain": [
       "array([ 1.,  6., 11.,  2.,  7., 12.,  3.,  8., 13.,  4.,  9., 14.,  5.,\n",
       "       10., 15.])"
      ]
     },
     "execution_count": 11,
     "metadata": {},
     "output_type": "execute_result"
    }
   ],
   "source": [
    "# Usando as propriedades de indexação, o for refatora os valores de acordo ao exemplo solicitado, \n",
    "# formando assim um array com todos os valores corretos.\n",
    "c = 3\n",
    "for i in range(5):  \n",
    "    n = i*c\n",
    "    array_lins[n]   = array_lins[n]+(i)\n",
    "    array_lins[n+1] = array_lins[n+1]+(5+i)\n",
    "    array_lins[n+2] = array_lins[n+2]+(10+i)\n",
    "\n",
    "array_lins"
   ]
  },
  {
   "cell_type": "code",
   "execution_count": 12,
   "metadata": {},
   "outputs": [
    {
     "data": {
      "text/plain": [
       "array([[ 1.,  6., 11.],\n",
       "       [ 2.,  7., 12.],\n",
       "       [ 3.,  8., 13.],\n",
       "       [ 4.,  9., 14.],\n",
       "       [ 5., 10., 15.]])"
      ]
     },
     "execution_count": 12,
     "metadata": {},
     "output_type": "execute_result"
    }
   ],
   "source": [
    "# Com o array correto, só utlizar a função np.reshape para formatar o array na matriz solicitada:\n",
    "\n",
    "matriz_lins = array_lins.reshape(5,3)\n",
    "matriz_lins"
   ]
  },
  {
   "cell_type": "code",
   "execution_count": 13,
   "metadata": {},
   "outputs": [
    {
     "data": {
      "text/plain": [
       "array([[1, 1, 1],\n",
       "       [2, 2, 2],\n",
       "       [3, 3, 3],\n",
       "       [4, 4, 4],\n",
       "       [5, 5, 5]])"
      ]
     },
     "execution_count": 13,
     "metadata": {},
     "output_type": "execute_result"
    }
   ],
   "source": [
    "# Usando array de 1 a 5, usp da função tile associada a reshape para montar a matriz 5x3 com cada linha preenchida com valores\n",
    "# correspondente a cada indice do array de base:\n",
    "lista = np.array([1, 2, 3, 4, 5])\n",
    "matriz_one =  np.tile(lista.reshape(5, 1), (1, 3))\n",
    "matriz_one"
   ]
  },
  {
   "cell_type": "code",
   "execution_count": 14,
   "metadata": {},
   "outputs": [
    {
     "data": {
      "text/plain": [
       "array([[ 1,  6, 11],\n",
       "       [ 2,  7, 12],\n",
       "       [ 3,  8, 13],\n",
       "       [ 4,  9, 14],\n",
       "       [ 5, 10, 15]])"
      ]
     },
     "execution_count": 14,
     "metadata": {},
     "output_type": "execute_result"
    }
   ],
   "source": [
    "# Usando a propriedade das arrays que permitem somar por broadcasting determinadas posições\n",
    "# da matriz para obter o valor final, realizando a soma nas colunas 2 e 3 os valores de +5 e +10:\n",
    "\n",
    "matriz_one[:,1:2] = matriz_one[:,1:2]+5\n",
    "matriz_one[:,2:] = matriz_one[:,2:]+10\n",
    "\n",
    "matriz_one"
   ]
  },
  {
   "cell_type": "markdown",
   "metadata": {},
   "source": [
    "#### 5. Usando numpy, crie:\n",
    "\n",
    "(a) um vetor de 10 elementos entre 1 e 20"
   ]
  },
  {
   "cell_type": "code",
   "execution_count": 15,
   "metadata": {},
   "outputs": [
    {
     "data": {
      "text/plain": [
       "array([ 1.        ,  3.11111111,  5.22222222,  7.33333333,  9.44444444,\n",
       "       11.55555556, 13.66666667, 15.77777778, 17.88888889, 20.        ])"
      ]
     },
     "execution_count": 15,
     "metadata": {},
     "output_type": "execute_result"
    }
   ],
   "source": [
    "np.linspace(1,20,10)"
   ]
  },
  {
   "cell_type": "markdown",
   "metadata": {},
   "source": [
    "(b) um vetor entre 1 e 20, com passo de 2"
   ]
  },
  {
   "cell_type": "code",
   "execution_count": 16,
   "metadata": {},
   "outputs": [
    {
     "data": {
      "text/plain": [
       "array([ 1,  3,  5,  7,  9, 11, 13, 15, 17, 19])"
      ]
     },
     "execution_count": 16,
     "metadata": {},
     "output_type": "execute_result"
    }
   ],
   "source": [
    "np.arange(1,20,2)"
   ]
  },
  {
   "cell_type": "markdown",
   "metadata": {},
   "source": [
    "(c) uma matriz 3x3 cujos elementos da diagonal sejam o vetor [1,2,3] e os demais sejam todos 0"
   ]
  },
  {
   "cell_type": "code",
   "execution_count": 17,
   "metadata": {},
   "outputs": [
    {
     "data": {
      "text/plain": [
       "array([[1., 0., 0.],\n",
       "       [0., 2., 0.],\n",
       "       [0., 0., 3.]])"
      ]
     },
     "execution_count": 17,
     "metadata": {},
     "output_type": "execute_result"
    }
   ],
   "source": [
    "vet123 = np.arange(1,4)\n",
    "m_diag = np.eye(3,3)\n",
    "m_diag*vet123"
   ]
  },
  {
   "cell_type": "markdown",
   "metadata": {},
   "source": [
    "#### 6. Considere a lista [-2, 4., ’7’, 9] e crie um array Numpy a partir dessa lista. Houve uma mudança no tipo de vários elementos. Explique com suas palavras porque isso aconteceu. Se o elemento ’7’ for escrito como inteiro, o que muda na saída e por que?"
   ]
  },
  {
   "cell_type": "code",
   "execution_count": 18,
   "metadata": {},
   "outputs": [
    {
     "name": "stdout",
     "output_type": "stream",
     "text": [
      "Array: ['-2' '4.0' '7' '9']\n",
      "Tipo do array: <U32\n"
     ]
    }
   ],
   "source": [
    "lista = [-2, 4., '7', 9]\n",
    "nplista = np.array(lista)\n",
    "print(\"Array:\", nplista)\n",
    "print(\"Tipo do array:\", nplista.dtype)"
   ]
  },
  {
   "cell_type": "markdown",
   "metadata": {},
   "source": [
    "- O caso acontece pois np.array possuem uma definição de 1 tipo de dados para cada array, diferente de uma lista convencional de python que aceita diversos tipos de dados em uma mesma lista. Sendo assim, a definição tem por hierarquia a sequencia string > complex > float > int, explicanto o motivo de valores ints ou float se tornarem do typo string.\n",
    "- Da mesma forma, se o '7' for um int ao invés de uma string, o proximo typo presente na hierarquia será um tipo float, logo o tipo do array será definido como float.\n",
    " \n",
    " "
   ]
  },
  {
   "cell_type": "code",
   "execution_count": 19,
   "metadata": {},
   "outputs": [
    {
     "name": "stdout",
     "output_type": "stream",
     "text": [
      "Array: [-2.  4.  7.  9.]\n",
      "Tipo do array: float64\n"
     ]
    }
   ],
   "source": [
    "lista = [-2, 4., 7, 9]\n",
    "nplista = np.array(lista)\n",
    "print(\"Array:\", nplista)\n",
    "print(\"Tipo do array:\", nplista.dtype)"
   ]
  },
  {
   "cell_type": "markdown",
   "metadata": {},
   "source": [
    "#### 7. Crie um vetor A com valores variando de 10 à 49, um vetor B variando de 1 à 39 e um vetor C de 10 à 20. Então realize e comente a saída das seguintes operações:\n"
   ]
  },
  {
   "cell_type": "code",
   "execution_count": 20,
   "metadata": {},
   "outputs": [
    {
     "name": "stdout",
     "output_type": "stream",
     "text": [
      "A:  [10.         14.33333333 18.66666667 23.         27.33333333 31.66666667\n",
      " 36.         40.33333333 44.66666667 49.        ]\n",
      "B:  [ 1.          5.22222222  9.44444444 13.66666667 17.88888889 22.11111111\n",
      " 26.33333333 30.55555556 34.77777778 39.        ]\n",
      "C:  [10 11 12 13 14 15 16 17 18 19]\n"
     ]
    }
   ],
   "source": [
    "A = np.linspace(10, 49, 10)\n",
    "B = np.linspace(1, 39, 10)\n",
    "C = np.arange(10, 20)\n",
    "print(\"A: \", A)\n",
    "print(\"B: \", B)\n",
    "print(\"C: \", C)"
   ]
  },
  {
   "cell_type": "markdown",
   "metadata": {},
   "source": [
    "  a)  (A + B):"
   ]
  },
  {
   "cell_type": "code",
   "execution_count": 21,
   "metadata": {},
   "outputs": [
    {
     "data": {
      "text/plain": [
       "array([11.        , 19.55555556, 28.11111111, 36.66666667, 45.22222222,\n",
       "       53.77777778, 62.33333333, 70.88888889, 79.44444444, 88.        ])"
      ]
     },
     "execution_count": 21,
     "metadata": {},
     "output_type": "execute_result"
    }
   ],
   "source": [
    "A+B"
   ]
  },
  {
   "cell_type": "markdown",
   "metadata": {},
   "source": [
    "    b) (A · B):"
   ]
  },
  {
   "cell_type": "code",
   "execution_count": 22,
   "metadata": {},
   "outputs": [
    {
     "data": {
      "text/plain": [
       "array([  10.        ,   74.85185185,  176.2962963 ,  314.33333333,\n",
       "        488.96296296,  700.18518519,  948.        , 1232.40740741,\n",
       "       1553.40740741, 1911.        ])"
      ]
     },
     "execution_count": 22,
     "metadata": {},
     "output_type": "execute_result"
    }
   ],
   "source": [
    "A*B"
   ]
  },
  {
   "cell_type": "markdown",
   "metadata": {},
   "source": [
    "    c) (A + C):"
   ]
  },
  {
   "cell_type": "code",
   "execution_count": 23,
   "metadata": {},
   "outputs": [
    {
     "data": {
      "text/plain": [
       "array([20.        , 25.33333333, 30.66666667, 36.        , 41.33333333,\n",
       "       46.66666667, 52.        , 57.33333333, 62.66666667, 68.        ])"
      ]
     },
     "execution_count": 23,
     "metadata": {},
     "output_type": "execute_result"
    }
   ],
   "source": [
    "A+C"
   ]
  },
  {
   "cell_type": "markdown",
   "metadata": {},
   "source": [
    "    d) (B · C):"
   ]
  },
  {
   "cell_type": "code",
   "execution_count": 24,
   "metadata": {},
   "outputs": [
    {
     "data": {
      "text/plain": [
       "array([ 10.        ,  57.44444444, 113.33333333, 177.66666667,\n",
       "       250.44444444, 331.66666667, 421.33333333, 519.44444444,\n",
       "       626.        , 741.        ])"
      ]
     },
     "execution_count": 24,
     "metadata": {},
     "output_type": "execute_result"
    }
   ],
   "source": [
    "B*C"
   ]
  },
  {
   "cell_type": "markdown",
   "metadata": {},
   "source": [
    "#### 8. Crie uma matriz 3 × 3 , com elementos variando de 0 à 8"
   ]
  },
  {
   "cell_type": "code",
   "execution_count": 25,
   "metadata": {},
   "outputs": [
    {
     "data": {
      "text/plain": [
       "array([[0, 1, 2],\n",
       "       [3, 4, 5],\n",
       "       [6, 7, 8]])"
      ]
     },
     "execution_count": 25,
     "metadata": {},
     "output_type": "execute_result"
    }
   ],
   "source": [
    "array = np.arange(9)\n",
    "matriz = array.reshape(3,3)\n",
    "matriz"
   ]
  },
  {
   "cell_type": "markdown",
   "metadata": {},
   "source": [
    "#### 9. Crie uma matriz 3 × 3 × 3 com elementos aleatórios."
   ]
  },
  {
   "cell_type": "code",
   "execution_count": 26,
   "metadata": {},
   "outputs": [
    {
     "data": {
      "text/plain": [
       "array([[[0.5940878 , 0.53184812, 0.01856986],\n",
       "        [0.97063686, 0.13745466, 0.63190292],\n",
       "        [0.89072787, 0.09713329, 0.83744436]],\n",
       "\n",
       "       [[0.631813  , 0.28331129, 0.03629995],\n",
       "        [0.53216014, 0.75212268, 0.01495312],\n",
       "        [0.7952791 , 0.93391908, 0.23379785]],\n",
       "\n",
       "       [[0.42151174, 0.90361281, 0.65816627],\n",
       "        [0.34174893, 0.32678229, 0.78542061],\n",
       "        [0.14800625, 0.97209104, 0.90352009]]])"
      ]
     },
     "execution_count": 26,
     "metadata": {},
     "output_type": "execute_result"
    }
   ],
   "source": [
    "matriz3x3x3 = np.random.rand(3,3,3)\n",
    "matriz3x3x3"
   ]
  },
  {
   "cell_type": "markdown",
   "metadata": {},
   "source": [
    "#### 10. Usando a função sin do numpy, e a função plot da matplotlib, módulo de geração de gráficos, plote um gráfico contendo os dois primeiros períodos de uma senóide."
   ]
  },
  {
   "cell_type": "code",
   "execution_count": 27,
   "metadata": {},
   "outputs": [],
   "source": [
    "import matplotlib.pylab as plt"
   ]
  },
  {
   "cell_type": "code",
   "execution_count": 28,
   "metadata": {},
   "outputs": [],
   "source": [
    "senoide = np.linspace(-np.pi, np.pi, 360)"
   ]
  },
  {
   "cell_type": "code",
   "execution_count": 29,
   "metadata": {},
   "outputs": [
    {
     "data": {
      "image/png": "[encoded data removed]",
      "text/plain": [
       "<Figure size 432x288 with 1 Axes>"
      ]
     },
     "metadata": {
      "needs_background": "light"
     },
     "output_type": "display_data"
    }
   ],
   "source": [
    "plt.plot(senoide, np.sin(senoide))\n",
    "plt.xlabel('Ángulo[rad]')\n",
    "plt.ylabel('seno(x)')\n",
    "plt.axis('tight')\n",
    "plt.show()"
   ]
  },
  {
   "cell_type": "code",
   "execution_count": null,
   "metadata": {},
   "outputs": [],
   "source": []
  },
  {
   "cell_type": "code",
   "execution_count": null,
   "metadata": {},
   "outputs": [],
   "source": []
  },
  {
   "cell_type": "code",
   "execution_count": null,
   "metadata": {},
   "outputs": [],
   "source": []
  }
 ],
 "metadata": {
  "kernelspec": {
   "display_name": "Python 3",
   "language": "python",
   "name": "python3"
  },
  "language_info": {
   "codemirror_mode": {
    "name": "ipython",
    "version": 3
   },
   "file_extension": ".py",
   "mimetype": "text/x-python",
   "name": "python",
   "nbconvert_exporter": "python",
   "pygments_lexer": "ipython3",
   "version": "3.8.3"
  }
 },
 "nbformat": 4,
 "nbformat_minor": 4
}
