{
 "cells": [
  {
   "cell_type": "markdown",
   "metadata": {},
   "source": [
    "# <center>__MÉTODOS NUMÉRICOS__</center>\n",
    "## <center>__Lista de Exercícios 10b__</center>\n",
    "\n",
    "### <center>__Aluno: Willian Adriano Ullmann Klein__</center>\n",
    "### <center>__Professor: Paulo Ribeiro__</center>"
   ]
  },
  {
   "cell_type": "markdown",
   "metadata": {},
   "source": [
    "Implemente uma função que encontre o vetor solução de um sistema de equações lineares usando decomposição LU.\n",
    "\n",
    "Essa função terá de contemplar as três etapas do processo: a decomposição, cujo algoritmo é discutido no notebook das aulas da semana, e que terá como saída as matrizes P, L e U e as soluções dos sistemas intermediários usando as funções que já trabalhamos para sistemas triangulares"
   ]
  },
  {
   "cell_type": "code",
   "execution_count": 1,
   "metadata": {},
   "outputs": [],
   "source": [
    "#Bibliotecas necessárias para a implementação:\n",
    "\n",
    "import numpy as np\n",
    "import scipy.linalg as sla"
   ]
  },
  {
   "cell_type": "markdown",
   "metadata": {},
   "source": [
    "Funções das aulas passadas e função de implementação LU."
   ]
  },
  {
   "cell_type": "code",
   "execution_count": 2,
   "metadata": {},
   "outputs": [],
   "source": [
    "def sist_lin_tri_sup(A,b):\n",
    "    n = len(b)\n",
    "    x = np.empty(n)\n",
    "    x[-1] = b[-1]/A[-1, -1]\n",
    "    for i in range(n-2, -1, -1):\n",
    "        x[i] = (b[i] - np.sum(A[i,i+1:]*x[i+1:]))/A[i,i]\n",
    "    return x"
   ]
  },
  {
   "cell_type": "code",
   "execution_count": 3,
   "metadata": {},
   "outputs": [],
   "source": [
    "def sist_lin_tri_inf(A,b):\n",
    "    n = len(b)\n",
    "    x = np.empty(n)\n",
    "    x[0] = b[0]/A[0, 0]\n",
    "    for i in range(1,n):\n",
    "        x[i] = (b[i] - np.sum(A[i,:i]*x[:i]))/A[i,i]\n",
    "    return x"
   ]
  },
  {
   "cell_type": "code",
   "execution_count": 4,
   "metadata": {},
   "outputs": [],
   "source": [
    "# Cria matriz adicionando valor P a LU\n",
    "\n",
    "def pivotize(m):    \n",
    "    n = len(m)\n",
    "    ID = [[float(i == j) for i in range(n)] for j in range(n)]\n",
    "    for j in range(n):\n",
    "        row = max(range(j, n), key=lambda i: abs(m[i][j]))\n",
    "        if j != row:\n",
    "            ID[j], ID[row] = ID[row], ID[j]\n",
    "    return ID"
   ]
  },
  {
   "cell_type": "code",
   "execution_count": 5,
   "metadata": {},
   "outputs": [],
   "source": [
    "# Decompõe uma matriz N*N A por PA = LU.\n",
    "\n",
    "def LU(A):\n",
    "    n = len(A)\n",
    "    L = [[0.0] * n for i in range(n)]\n",
    "    U = [[0.0] * n for i in range(n)]\n",
    "    P = pivotize(A)\n",
    "    A2 = np.array(P)@np.array(A)\n",
    "    for j in range(n):\n",
    "        L[j][j] = 1.0\n",
    "        for i in range(j+1):\n",
    "            s1 = sum(U[k][j] * L[i][k] for k in range(i))\n",
    "            U[i][j] = A2[i][j] - s1\n",
    "        for i in range(j, n):\n",
    "            s2 = sum(U[k][j] * L[i][k] for k in range(j))\n",
    "            L[i][j] = (A2[i][j] - s2) / U[j][j]\n",
    "    return (np.array(L), np.array(U), np.array(P)) #Retorna L,U e P"
   ]
  },
  {
   "cell_type": "code",
   "execution_count": 6,
   "metadata": {},
   "outputs": [],
   "source": [
    "def dec_LU(L,U,P,b):\n",
    "    Pb = P@b\n",
    "    y = sist_lin_tri_inf(L,Pb)\n",
    "    x = sist_lin_tri_sup(U,y)\n",
    "    return x"
   ]
  },
  {
   "cell_type": "markdown",
   "metadata": {},
   "source": [
    "<div class=\"alert alert-block alert-info\">\n",
    "(a)\n",
    "<center>$x_1 + x_2 + x_3 = 1$</center>\n",
    "<center>$4x_1 + 4x_2 + 2x_3 = 2$</center>\n",
    "<center>$2x_1 + x_2 − x_3= 0$</center>\n",
    "</div>"
   ]
  },
  {
   "cell_type": "code",
   "execution_count": 7,
   "metadata": {},
   "outputs": [],
   "source": [
    "# A resposta para a função em matriz A e B:\n",
    "\n",
    "A = np.array([[1,1,1],[4,4,2],[2,1,-1]])\n",
    "B = np.array([1,2,0])"
   ]
  },
  {
   "cell_type": "code",
   "execution_count": 8,
   "metadata": {},
   "outputs": [
    {
     "name": "stdout",
     "output_type": "stream",
     "text": [
      "LU Array:  [nan nan nan] \n",
      "\n"
     ]
    },
    {
     "name": "stderr",
     "output_type": "stream",
     "text": [
      "<ipython-input-5-5051eaf37ab5>:16: RuntimeWarning: invalid value encountered in double_scalars\n",
      "  L[i][j] = (A2[i][j] - s2) / U[j][j]\n",
      "<ipython-input-5-5051eaf37ab5>:16: RuntimeWarning: divide by zero encountered in double_scalars\n",
      "  L[i][j] = (A2[i][j] - s2) / U[j][j]\n"
     ]
    }
   ],
   "source": [
    "# Aplicando nas funções para a Decomposição LU.\n",
    "\n",
    "L, U, P = LU(A)\n",
    "print(\"LU Array: \",dec_LU(L, U, P, B),\"\\n\")"
   ]
  },
  {
   "cell_type": "markdown",
   "metadata": {},
   "source": [
    "Assim como na implemntação gaussiana da atividade 10a, a implemntação LU difere do retorno da função solve da biblioteca scipy."
   ]
  },
  {
   "cell_type": "code",
   "execution_count": 9,
   "metadata": {},
   "outputs": [
    {
     "name": "stdout",
     "output_type": "stream",
     "text": [
      "Sla Array:  [ 1. -1.  1.] \n",
      "\n"
     ]
    }
   ],
   "source": [
    "# Utilizando a função solve da biblioteca scipy, obtemos:\n",
    "\n",
    "L_U, piv = sla.lu_factor(A)\n",
    "print(\"Sla Array: \",sla.lu_solve((L_U,piv),B),\"\\n\")"
   ]
  },
  {
   "cell_type": "markdown",
   "metadata": {},
   "source": [
    "<div class=\"alert alert-block alert-info\">\n",
    "(b)\n",
    "<center>$7x_1 − 7x_2 + x_3 = 1$</center>\n",
    "<center>$−3x_1 + 3x_2 + 2x_3 = 2$</center>\n",
    "<center>$7x_1 + 7x_2 − 72x_3 = 7$</center>\n",
    "</div>"
   ]
  },
  {
   "cell_type": "code",
   "execution_count": 10,
   "metadata": {},
   "outputs": [],
   "source": [
    "# A resposta para a função em matriz A e B:\n",
    "\n",
    "A = np.array([[7,-7,1],[-3,3,2],[7,7,-72]])\n",
    "B = np.array([1,2,7])"
   ]
  },
  {
   "cell_type": "code",
   "execution_count": 11,
   "metadata": {},
   "outputs": [
    {
     "name": "stdout",
     "output_type": "stream",
     "text": [
      "LU Array:  [5.64285714 5.64285714 1.        ] \n",
      "\n"
     ]
    }
   ],
   "source": [
    "# Aplicando nas funções para a Decomposição LU.\n",
    "\n",
    "L, U, P = LU(A)\n",
    "print(\"LU Array: \",dec_LU(L, U, P, B),\"\\n\")"
   ]
  },
  {
   "cell_type": "code",
   "execution_count": 12,
   "metadata": {},
   "outputs": [
    {
     "name": "stdout",
     "output_type": "stream",
     "text": [
      "Sla Array:  [5.64285714 5.64285714 1.        ] \n",
      "\n"
     ]
    }
   ],
   "source": [
    "# Utilizando a função solve da biblioteca scipy, obtemos:\n",
    "\n",
    "L_U, piv = sla.lu_factor(A)\n",
    "print(\"Sla Array: \",sla.lu_solve((L_U,piv),B),\"\\n\")"
   ]
  },
  {
   "cell_type": "markdown",
   "metadata": {},
   "source": [
    "<div class=\"alert alert-block alert-info\">\n",
    "(c)\n",
    "<center>$x_1 + 2x_2 + 3x_3 + 4x_4 = 20$</center>\n",
    "<center>$2x_1 + 2x_2 + 3x_3 + 4x_4 = 22$</center>\n",
    "<center>$3x_1 + 3x_2 + 3x_3 + 4x_4 = 22$</center>\n",
    "<center>$4x_1 + 4x_2 + 4x_3 + 4x_4 = 24$</center>\n",
    "</div>"
   ]
  },
  {
   "cell_type": "code",
   "execution_count": 13,
   "metadata": {},
   "outputs": [],
   "source": [
    "# A resposta para a função em matriz A e B:\n",
    "\n",
    "A = np.array([[1,2,3,4],[2,2,3,4],[3,3,3,4],[4,4,4,4]])\n",
    "B = np.array([20,22,22,24])"
   ]
  },
  {
   "cell_type": "code",
   "execution_count": 14,
   "metadata": {},
   "outputs": [
    {
     "name": "stdout",
     "output_type": "stream",
     "text": [
      "LU Array:  [ 2. -2.  2.  4.] \n",
      "\n"
     ]
    }
   ],
   "source": [
    "# Aplicando nas funções para a Decomposição LU.\n",
    "\n",
    "L, U, P = LU(A)\n",
    "print(\"LU Array: \",dec_LU(L, U, P, B),\"\\n\")"
   ]
  },
  {
   "cell_type": "code",
   "execution_count": 15,
   "metadata": {},
   "outputs": [
    {
     "name": "stdout",
     "output_type": "stream",
     "text": [
      "Sla Array:  [ 2. -2.  2.  4.] \n",
      "\n"
     ]
    }
   ],
   "source": [
    "# Utilizando a função solve da biblioteca scipy, obtemos:\n",
    "\n",
    "L_U, piv = sla.lu_factor(A)\n",
    "print(\"Sla Array: \",sla.lu_solve((L_U,piv),B),\"\\n\")"
   ]
  },
  {
   "cell_type": "code",
   "execution_count": null,
   "metadata": {},
   "outputs": [],
   "source": []
  }
 ],
 "metadata": {
  "kernelspec": {
   "display_name": "Python 3",
   "language": "python",
   "name": "python3"
  },
  "language_info": {
   "codemirror_mode": {
    "name": "ipython",
    "version": 3
   },
   "file_extension": ".py",
   "mimetype": "text/x-python",
   "name": "python",
   "nbconvert_exporter": "python",
   "pygments_lexer": "ipython3",
   "version": "3.8.3"
  }
 },
 "nbformat": 4,
 "nbformat_minor": 4
}
