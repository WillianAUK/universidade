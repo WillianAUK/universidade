{
 "cells": [
  {
   "cell_type": "code",
   "execution_count": 1,
   "metadata": {},
   "outputs": [],
   "source": [
    "import numpy as np\n",
    "import scipy.linalg as sla"
   ]
  },
  {
   "cell_type": "markdown",
   "metadata": {},
   "source": [
    "### Exercício 1.1\n",
    "Classifique os sistemas abaixo com relação a quantidade e existência de soluções."
   ]
  },
  {
   "cell_type": "code",
   "execution_count": 2,
   "metadata": {},
   "outputs": [],
   "source": [
    "def verifMatrix(matrixA, matrixB):\n",
    "    rankA = np.linalg.matrix_rank(matrixA)\n",
    "    rankPosto = np.linalg.matrix_rank(np.c_[matrixA, matrixB])\n",
    "    shapeMatrixA = matrixA.shape[1]\n",
    "    \n",
    "    # se A = B e B = C, C = A\n",
    "    if rankA == rankPosto and rankPosto == shapeMatrixA:\n",
    "        print(\"Sistema possível determinado\")\n",
    "        #rank(Aposto) = rank(A) < n\n",
    "    elif rankA == rankPosto and rankA < shapeMatrixA:\n",
    "        print(\"Sistema possível indeterminado\")\n",
    "    else:\n",
    "        print(\"Sistema impossível\")"
   ]
  },
  {
   "cell_type": "markdown",
   "metadata": {},
   "source": [
    "#### a)\n",
    "$x + 2y + 3z = 1$\n",
    "\n",
    "$4x + 5y + 6z = 1$\n",
    "\n",
    "$7x + 8y + 9z = 1$"
   ]
  },
  {
   "cell_type": "code",
   "execution_count": 3,
   "metadata": {},
   "outputs": [
    {
     "name": "stdout",
     "output_type": "stream",
     "text": [
      "A:\n",
      "Sistema possível indeterminado\n"
     ]
    }
   ],
   "source": [
    "Aa = np.array([[1, 2, 3], [4, 5, 6], [7, 8, 9]])\n",
    "ba = np.array([1, 1, 1])\n",
    "print(\"A:\")\n",
    "verifMatrix(Aa, ba)"
   ]
  },
  {
   "cell_type": "markdown",
   "metadata": {},
   "source": [
    "#### b)\n",
    "$2x + 3y = 10$\n",
    "\n",
    "$−4x − 6y = −10$"
   ]
  },
  {
   "cell_type": "code",
   "execution_count": 4,
   "metadata": {},
   "outputs": [
    {
     "name": "stdout",
     "output_type": "stream",
     "text": [
      "B:\n",
      "Sistema impossível\n"
     ]
    }
   ],
   "source": [
    "Ab = np.array([[2, 3], [-4, -6]])\n",
    "bb = np.array([10, -10])\n",
    "print(\"B:\")\n",
    "verifMatrix(Ab, bb)"
   ]
  },
  {
   "cell_type": "code",
   "execution_count": null,
   "metadata": {},
   "outputs": [],
   "source": []
  },
  {
   "cell_type": "markdown",
   "metadata": {},
   "source": [
    "### Exercício 1.2\n",
    "Repita o exemplo 3.2 acima, porém fazendo cada passo da execução de forma explícita, comparando como o algoritmo 1.2 e a função sist_lin_tri_sup funcionam. Sugestão: faça isso de forma manuscrita. Ajudará a entender melhor cada passo.\n",
    "\n",
    "Os sistemas triangulares inferiores tem a forma algébrica do tipo\n",
    "\n",
    "$3x_{1} + 4x_{2} − 5x_{3} + x_{4} = −10$<br/>\n",
    "$x_{2} + x_{3} − 2x_{4} = −1$<br/>\n",
    "$4x_{3} − 5x_{4} = 3$<br/>\n",
    "$2x_{4} = 2$<br/>\n",
    "\n",
    "em que a matriz de coeficientes\n",
    "\n",
    "$\n",
    "\t\\begin{bmatrix} \n",
    "        3 & 4 & -5 & 1 \\\\\n",
    "        0 & 1 & 1 & -2 \\\\\n",
    "        0 & 1 & 4 & -5 \\\\\n",
    "        0 & 0 & 0 & 2 \\\\\n",
    "\t\\end{bmatrix}\n",
    "\t\\quad\n",
    "    \\times\n",
    "    \\begin{bmatrix} \n",
    "        -10 \\\\\n",
    "        -2 \\\\\n",
    "        3 \\\\\n",
    "        2 \\\\\n",
    "\t\\end{bmatrix}\n",
    "\t\\quad\n",
    "$\n",
    "\n",
    "é uma matriz triangular inferior, cujos elementos acima da diagonal principal são nulos, isto é,\n",
    "$a_{ij} = 0$ para todo $i < j$.\n",
    "\n",
    "A ideia da substituição usada nos sistemas triangulares superiores é exatamente a\n",
    "mesma para sistemas triangulares inferiores, diferenciando-se apenas que, ao invés de começar\n",
    "pela incógnita de maior índice, inicia-se pela de menor índice, sendo esse método, por esse\n",
    "motivo, referido como substituição progressiva\n",
    "\n",
    "Dessa forma a primeira incógnita encontrada será\n",
    "\n",
    "$x1 = \\frac{b_1}{a_{11}}$\n",
    "\n",
    "cujo valor pode ser usado na segunda equação para encontrar a segunda incógnita, fazendo\n",
    "\n",
    "$x2 = \\frac{b_2 − a_{21}x_1}{a_{22}}\n",
    "$\n",
    "\n",
    "e esses dois valores podem ser usados na terceira equação para encontrar o termo $x_3$ e assim\n",
    "por diante, até que, na última equação, os $n − 1$ primeiros termo da solução serão conhecidos e\n",
    "possibilitarão encontrar o termo $x_n$.\n"
   ]
  },
  {
   "cell_type": "code",
   "execution_count": 7,
   "metadata": {},
   "outputs": [],
   "source": [
    "def sist_lin_tri_sup(A,b):\n",
    "    n = len(b)\n",
    "    x = np.empty(n)\n",
    "    x[-1] = b[-1]/A[-1, -1]\n",
    "    for i in range(n-2, -1, -1):\n",
    "        x[i] = (b[i] - np.sum(A[i,i+1:]*x[i+1:]))/A[i,i]\n",
    "    return x"
   ]
  },
  {
   "cell_type": "code",
   "execution_count": 8,
   "metadata": {},
   "outputs": [
    {
     "name": "stdout",
     "output_type": "stream",
     "text": [
      "[ 1. -1.  2.  1.]\n"
     ]
    }
   ],
   "source": [
    "A = np.array([[3, 4, -5, 1], [0, 1, 1, -2], [0, 0, 4, -5], [0, 0, 0, 2]])\n",
    "b = np.array([-10, -1, 3, 2])\n",
    "print(sist_lin_tri_sup(A, b))"
   ]
  },
  {
   "cell_type": "markdown",
   "metadata": {},
   "source": [
    "$3x_{1} = 4$<br/>\n",
    "$2x_{1} + x_{2} = 2$<br/>\n",
    "$x_{1} + x_{3} = 4$<br/>\n",
    "$x_{1} + x_{2} + x_{3} + x_{4} = 2$<br/>\n",
    "\n",
    "$\n",
    "\t\\begin{bmatrix} \n",
    "        3 & 0 & 0 & 0 \\\\\n",
    "        2 & 1 & 0 & 0 \\\\\n",
    "        1 & 0 & 1 & 0 \\\\\n",
    "        1 & 1 & 1 & 1 \\\\\n",
    "\t\\end{bmatrix}\n",
    "\t\\quad\n",
    "    \\times\n",
    "    \\begin{bmatrix} \n",
    "        4 \\\\\n",
    "        2 \\\\\n",
    "        4 \\\\\n",
    "        2 \\\\\n",
    "\t\\end{bmatrix}\n",
    "\t\\quad\n",
    "$"
   ]
  },
  {
   "cell_type": "markdown",
   "metadata": {},
   "source": []
  },
  {
   "cell_type": "markdown",
   "metadata": {},
   "source": [
    "### Exercício 1.3\n",
    "Repita o exemplo 3.3 acima, porém fazendo cada passo da execução de forma explícita, comparando como o algoritmo 1.3 e a função sist_lin_tri_inf funcionam. Use a mesma sugestão do exercício anterior"
   ]
  },
  {
   "cell_type": "code",
   "execution_count": 25,
   "metadata": {},
   "outputs": [],
   "source": [
    "def sist_lin_tri_inf(A,b):\n",
    "    n = len(b)\n",
    "    x = np.empty(n)\n",
    "    x[0] = b[0]/A[0, 0]\n",
    "    for i in range(1,n):\n",
    "        x[i] = (b[i] - np.sum(A[i,:i]*x[:i]))/A[i,i]   \n",
    "    return x"
   ]
  },
  {
   "cell_type": "code",
   "execution_count": 29,
   "metadata": {},
   "outputs": [],
   "source": [
    "def calcLinear(A, b):\n",
    "    if checkDiagonal(A) :\n",
    "        print(f\"\\n{b / A.diagonal()}\")\n",
    "    elif checkSup(A) :\n",
    "        print(f\"\\n{sist_lin_tri_sup(A, b)}\")\n",
    "    elif checkInf(A) :\n",
    "        print(f\"\\n{sist_lin_tri_inf(A, b)}\")"
   ]
  },
  {
   "cell_type": "code",
   "execution_count": 30,
   "metadata": {},
   "outputs": [],
   "source": [
    "A = np.array([[3,0,0,0],[2,1,0,0],[1,0,1,0],[1,1,1,1]])\n",
    "B = np.array([4,2,4,2])"
   ]
  },
  {
   "cell_type": "code",
   "execution_count": 31,
   "metadata": {},
   "outputs": [
    {
     "name": "stdout",
     "output_type": "stream",
     "text": [
      "\n",
      "[ 1.33333333 -0.66666667  2.66666667 -1.33333333]\n",
      "None\n"
     ]
    }
   ],
   "source": [
    "print(calcLinear(A, B))"
   ]
  },
  {
   "cell_type": "markdown",
   "metadata": {},
   "source": []
  },
  {
   "cell_type": "markdown",
   "metadata": {},
   "source": [
    "### Exercício 1.4\n",
    "Implemente uma função, cujos parâmetros de entrada sejam somente a matriz de coeficientes e o vetor de termos independentes e que calcule o vetor solução para qualquer um dos casos triviais vistos aqui. Atente para o fato de que a própria função terá de verificar se a matriz de coeficientes é diagonal, triangular superior ou inferior e não o usuário."
   ]
  },
  {
   "cell_type": "code",
   "execution_count": 13,
   "metadata": {},
   "outputs": [],
   "source": [
    "def checkDiagonal(A) :\n",
    "    n = len(A)\n",
    "    for i in range(n) :\n",
    "        for j in range(n) :\n",
    "            if i != j and A[i, j] != 0:\n",
    "                return False\n",
    "    return True\n"
   ]
  },
  {
   "cell_type": "code",
   "execution_count": 14,
   "metadata": {},
   "outputs": [],
   "source": [
    "def checkSup(A) :\n",
    "    n = len(A)\n",
    "    for i in range(n) :\n",
    "        for j in range(i) :\n",
    "            if A[i, j] != 0 :\n",
    "                return False\n",
    "    return True"
   ]
  },
  {
   "cell_type": "code",
   "execution_count": 15,
   "metadata": {},
   "outputs": [],
   "source": [
    "def checkInf(A) :\n",
    "    n = len(A)\n",
    "    for i in range(n) :\n",
    "        for j in range(i + 1, n) :\n",
    "            if A[i, j] != 0 :\n",
    "                return False\n",
    "    return True"
   ]
  },
  {
   "cell_type": "code",
   "execution_count": 16,
   "metadata": {},
   "outputs": [],
   "source": [
    "def calcLinear(A, b):\n",
    "    if checkDiagonal(A) :\n",
    "        print(f\"Diagonal.\\n{b / A.diagonal()}\")\n",
    "    elif checkSup(A) :\n",
    "        print(f\"Matriz superior.\\n{sist_lin_tri_sup(A, b)}\")\n",
    "    elif checkInf(A) :\n",
    "        print(f\"Matriz inferior.\\n{sist_lin_tri_inf(A, b)}\")\n",
    "        "
   ]
  },
  {
   "cell_type": "code",
   "execution_count": 20,
   "metadata": {},
   "outputs": [
    {
     "name": "stdout",
     "output_type": "stream",
     "text": [
      "Matriz superior.\n",
      "[ 1. -1.  2.  1.]\n",
      "\n"
     ]
    }
   ],
   "source": [
    "Aa = np.array([[3,4,-5,1],[0,1,1,-2],[0,0,4,-5],[0,0,0,2]])\n",
    "ba = np.array([-10,-1,3,2])\n",
    "calcLinear(Aa, ba)\n",
    "print()"
   ]
  },
  {
   "cell_type": "code",
   "execution_count": 21,
   "metadata": {},
   "outputs": [
    {
     "name": "stdout",
     "output_type": "stream",
     "text": [
      "Matriz inferior.\n",
      "[ 1.33333333 -0.66666667  2.66666667 -1.33333333]\n",
      "\n"
     ]
    }
   ],
   "source": [
    "Ab = np.array([[3,0,0,0],[2,1,0,0],[1,0,1,0],[1,1,1,1]])\n",
    "bb = np.array([4,2,4,2])\n",
    "calcLinear(Ab, bb)\n",
    "print()"
   ]
  },
  {
   "cell_type": "code",
   "execution_count": 22,
   "metadata": {},
   "outputs": [
    {
     "name": "stdout",
     "output_type": "stream",
     "text": [
      "Diagonal.\n",
      "[4.  0.5 1. ]\n"
     ]
    }
   ],
   "source": [
    "Ac = np.diag([1,4,2])\n",
    "bc = np.array([4, 2, 2])\n",
    "calcLinear(Ac,bc)"
   ]
  },
  {
   "cell_type": "code",
   "execution_count": null,
   "metadata": {},
   "outputs": [],
   "source": []
  }
 ],
 "metadata": {
  "kernelspec": {
   "display_name": "Python 3",
   "language": "python",
   "name": "python3"
  },
  "language_info": {
   "codemirror_mode": {
    "name": "ipython",
    "version": 3
   },
   "file_extension": ".py",
   "mimetype": "text/x-python",
   "name": "python",
   "nbconvert_exporter": "python",
   "pygments_lexer": "ipython3",
   "version": "3.8.3"
  }
 },
 "nbformat": 4,
 "nbformat_minor": 4
}
