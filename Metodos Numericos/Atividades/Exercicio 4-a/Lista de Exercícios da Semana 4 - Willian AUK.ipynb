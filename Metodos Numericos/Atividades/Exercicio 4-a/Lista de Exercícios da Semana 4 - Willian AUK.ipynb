{
 "cells": [
  {
   "cell_type": "markdown",
   "metadata": {},
   "source": [
    "## Exercícios\n",
    "### Aluno: Willian Adriano Ullmann Klein"
   ]
  },
  {
   "cell_type": "code",
   "execution_count": 2,
   "metadata": {},
   "outputs": [],
   "source": [
    "import numpy as np\n",
    "import scipy.optimize as sop\n",
    "import pandas as pd\n",
    "import matplotlib.pyplot as plt"
   ]
  },
  {
   "cell_type": "markdown",
   "metadata": {},
   "source": [
    "   ### 1-  \n",
    "   Implemente o método da Bisseção descrito pelo algoritmo 1.1 no texto. Para testar o algoritmo, use os exemplos do material textual"
   ]
  },
  {
   "cell_type": "code",
   "execution_count": 3,
   "metadata": {},
   "outputs": [],
   "source": [
    "def bissecao(a_i, b_i, aprox):\n",
    "    erro, x_old = 1, a_i\n",
    "    #i, a_i, b_i = 0, a, b\n",
    "    \n",
    "    while(erro > aprox):\n",
    "        a_infer = np.sign(funcao(a_i))\n",
    "        b_super = np.sign(funcao(b_i))\n",
    "        \n",
    "        if (a_infer*b_super != -1):\n",
    "            print(\"Não existe raiz no intervalo.\")\n",
    "            return\n",
    "        else:\n",
    "            x = (a_i + b_i)/2.\n",
    "\n",
    "            if (funcao(x) == 0):\n",
    "                print(\"A raiz encontrada é \", x)\n",
    "                return x\n",
    "            elif (a_infer*np.sign(funcao(x)) == -1): \n",
    "                b_i = x\n",
    "            else: \n",
    "                a_i = x\n",
    "            \n",
    "        erro = np.abs((x - x_old)/ np.abs(x)) \n",
    "        x_old = x\n",
    "    return x\n",
    "        \n",
    "        "
   ]
  },
  {
   "cell_type": "code",
   "execution_count": 4,
   "metadata": {},
   "outputs": [],
   "source": [
    "def funcao(x): return (x**5) + 2*(x**3) - (5*x)-2"
   ]
  },
  {
   "cell_type": "code",
   "execution_count": 5,
   "metadata": {},
   "outputs": [
    {
     "name": "stdout",
     "output_type": "stream",
     "text": [
      "Não existe raiz no intervalo.\n",
      "A raiz da função f(x), no intervalo [ -1 , 1 ] é:  None\n"
     ]
    }
   ],
   "source": [
    "aproxima = 1e-10\n",
    "a = -1\n",
    "b = 1\n",
    "\n",
    "raiz = bissecao(a, b, aproxima)\n",
    "\n",
    "print('A raiz da função f(x), no intervalo [', a, ',', b, '] é: ', raiz)"
   ]
  },
  {
   "cell_type": "code",
   "execution_count": 6,
   "metadata": {},
   "outputs": [],
   "source": [
    "def funcao(x): return 2 - np.exp(x) "
   ]
  },
  {
   "cell_type": "code",
   "execution_count": 7,
   "metadata": {},
   "outputs": [
    {
     "name": "stdout",
     "output_type": "stream",
     "text": [
      "A raiz da função f(x), no intervalo [ -1 , 1 ] é:  0.6931471805437468\n"
     ]
    },
    {
     "name": "stderr",
     "output_type": "stream",
     "text": [
      "<ipython-input-3-32ede39886b7>:23: RuntimeWarning: divide by zero encountered in double_scalars\n",
      "  erro = np.abs((x - x_old)/ np.abs(x))\n"
     ]
    }
   ],
   "source": [
    "aproxima = 1e-10\n",
    "a = -1\n",
    "b = 1\n",
    "\n",
    "raiz = bissecao(a, b, aproxima)\n",
    "\n",
    "print('A raiz da função f(x), no intervalo [', a, ',', b, '] é: ', raiz)"
   ]
  },
  {
   "cell_type": "code",
   "execution_count": 8,
   "metadata": {},
   "outputs": [],
   "source": [
    "def funcao(x): return (x**4) - (x**2) -3 "
   ]
  },
  {
   "cell_type": "code",
   "execution_count": 9,
   "metadata": {},
   "outputs": [
    {
     "name": "stdout",
     "output_type": "stream",
     "text": [
      "A raiz da função f(x), no intervalo [ 0 , 5 ] é:  1.5174899135308806\n"
     ]
    }
   ],
   "source": [
    "aproxima = 1e-10\n",
    "a = 0\n",
    "b = 5\n",
    "\n",
    "raiz = bissecao(a, b, aproxima)\n",
    "\n",
    "print('A raiz da função f(x), no intervalo [', a, ',', b, '] é: ', raiz)"
   ]
  },
  {
   "cell_type": "markdown",
   "metadata": {},
   "source": [
    "###  2 - \n",
    "Determine as raízes reais de  $f(x) = −0.5x^{2} + 2.5x + 4.5:$\n",
    "#### (a) \n",
    "Graficamente;"
   ]
  },
  {
   "cell_type": "code",
   "execution_count": 17,
   "metadata": {},
   "outputs": [],
   "source": [
    "def funcao(x): return (-0.5*(x**2) + (2.5*x) + 4.5)"
   ]
  },
  {
   "cell_type": "code",
   "execution_count": 71,
   "metadata": {},
   "outputs": [
    {
     "data": {
      "image/png": "[encoded data removed]",
      "text/plain": [
       "<Figure size 432x288 with 1 Axes>"
      ]
     },
     "metadata": {
      "needs_background": "light"
     },
     "output_type": "display_data"
    }
   ],
   "source": [
    "x = np.linspace(-5, 10, 50)\n",
    "y = [funcao(x), 0]\n",
    "plt.plot(x, funcao(x))\n",
    "\n",
    "plt.grid()"
   ]
  },
  {
   "cell_type": "markdown",
   "metadata": {},
   "source": [
    "#### (b) \n",
    "Usando a fórmula quadrática;"
   ]
  },
  {
   "cell_type": "code",
   "execution_count": 57,
   "metadata": {},
   "outputs": [],
   "source": [
    "def quadratica(a, b, c):\n",
    "    return (-b+(b**2 - 4*a*c)**0.5)/2*a , (-b-(b**2 - 4*a*c)**0.5)/2*a"
   ]
  },
  {
   "cell_type": "code",
   "execution_count": 58,
   "metadata": {},
   "outputs": [
    {
     "name": "stdout",
     "output_type": "stream",
     "text": [
      "x':  -0.35128120948833175 x'':  1.6012812094883317\n"
     ]
    }
   ],
   "source": [
    "a, b, c = -0.5, 2.5, 4.5\n",
    "\n",
    "x_um, x_dois = quadratica(a, b, c)\n",
    "print(\"x': \", x_um, \"x'': \", x_dois)"
   ]
  },
  {
   "cell_type": "markdown",
   "metadata": {},
   "source": [
    "#### (c) \n",
    "  Usando três iterações do método da bisseção para determinar a maior raiz. Use as aproximações iniciais $ x_{l} = 5$ e $x_{u} = 10$. Calcule o erro relativo obtido entre cada iteração, e o erro entre os valores verdadeiros encontrados no item b e o valor de cada iteração"
   ]
  },
  {
   "cell_type": "code",
   "execution_count": 85,
   "metadata": {},
   "outputs": [],
   "source": [
    "def bissecao_iteracao(a_i, b_i):\n",
    "    erro, x_old = 1, a_i\n",
    "    \n",
    "    \n",
    "    for i in range(3):\n",
    "        a_infer = np.sign(funcao(a_i))\n",
    "        b_super = np.sign(funcao(b_i))\n",
    "        \n",
    "        if (a_infer*b_super != -1):\n",
    "            print(\"Não existe raiz no intervalo.\")\n",
    "            return\n",
    "        else:\n",
    "            x = (a_i + b_i)/2.\n",
    "\n",
    "            if (funcao(x) == 0):\n",
    "                print(\"A raiz encontrada é \", x)\n",
    "                return x\n",
    "            elif (a_infer*np.sign(funcao(x)) == -1): \n",
    "                b_i = x\n",
    "            else: \n",
    "                a_i = x\n",
    "            \n",
    "        erro = np.abs((x - x_old)/ np.abs(x)) \n",
    "        x_old = x\n",
    "        print('--------------------------- \\n      Iteração: ', i+1,\n",
    "              '\\n Erro relativo: ', round(erro, 5), \n",
    "              '\\n         Valor: ', x )\n",
    "    "
   ]
  },
  {
   "cell_type": "code",
   "execution_count": 86,
   "metadata": {},
   "outputs": [
    {
     "name": "stdout",
     "output_type": "stream",
     "text": [
      "--------------------------- \n",
      "      Iteração:  1 \n",
      " Erro relativo:  0.33333 \n",
      "         Valor:  7.5\n",
      "--------------------------- \n",
      "      Iteração:  2 \n",
      " Erro relativo:  0.2 \n",
      "         Valor:  6.25\n",
      "--------------------------- \n",
      "      Iteração:  3 \n",
      " Erro relativo:  0.09091 \n",
      "         Valor:  6.875\n"
     ]
    }
   ],
   "source": [
    "a = 5\n",
    "b = 10\n",
    "\n",
    "bissecao_iteracao(a, b)"
   ]
  },
  {
   "cell_type": "markdown",
   "metadata": {},
   "source": [
    "### 3. \n",
    "   Localize a primeira raiz não-trivial de $ sin x = x^{3}$ , onde x está em radianos. Use uma técnica gráfica e a bisseção com o intervalo inicial de 0, 5 a 1. Faça os cálculos até que o erro seja inferior a 2%."
   ]
  },
  {
   "cell_type": "code",
   "execution_count": 224,
   "metadata": {},
   "outputs": [],
   "source": [
    "def funcao(x): return np.sin(x**3)"
   ]
  },
  {
   "cell_type": "code",
   "execution_count": 87,
   "metadata": {},
   "outputs": [
    {
     "data": {
      "image/png": "[encoded data removed]",
      "text/plain": [
       "<Figure size 432x288 with 1 Axes>"
      ]
     },
     "metadata": {
      "needs_background": "light"
     },
     "output_type": "display_data"
    }
   ],
   "source": [
    "x = np.linspace(0, 10, 200)\n",
    "y = [funcao(x), 0]\n",
    "plt.plot(x, funcao(x))\n",
    "\n",
    "plt.grid()"
   ]
  },
  {
   "cell_type": "code",
   "execution_count": 227,
   "metadata": {},
   "outputs": [
    {
     "name": "stdout",
     "output_type": "stream",
     "text": [
      "Não existe raiz no intervalo.\n"
     ]
    }
   ],
   "source": [
    "erro = 0.02\n",
    "a = 0.5\n",
    "b = 1\n",
    "\n",
    "raiz = bissecao(a, b, aproxima)"
   ]
  },
  {
   "cell_type": "markdown",
   "metadata": {},
   "source": [
    "### 4. \n",
    "  Dada $ f (x) = −2x^{6} − 1.5x^{4} + 10x + 20$, encontre o máximo dessa função ($ f'(x) = 0$) usando o método da bisseção, considerando o intervalo [0, 1] e um erro limite de 5%.\n"
   ]
  },
  {
   "cell_type": "code",
   "execution_count": 158,
   "metadata": {},
   "outputs": [],
   "source": [
    "from sympy import *\n",
    "f = Lambda(x, -2*x**6 - 1.5*x**4 + 10*x + 20)"
   ]
  },
  {
   "cell_type": "code",
   "execution_count": 159,
   "metadata": {},
   "outputs": [],
   "source": [
    "def d_funcao(): \n",
    "    fd = Lambda(x, diff(f(x),x))\n",
    "    return fd"
   ]
  },
  {
   "cell_type": "code",
   "execution_count": 193,
   "metadata": {},
   "outputs": [],
   "source": [
    "def bissecao4(a_i, b_i, aprox):\n",
    "    erro, x_old = 1, a_i\n",
    "    #i, a_i, b_i = 0, a, b\n",
    "    funcao = d_funcao()\n",
    "    while(erro > aprox):\n",
    "        a_infer = np.sign(funcao(a_i))\n",
    "        b_super = np.sign(funcao(b_i))\n",
    "        \n",
    "        if (a_infer*b_super != -1):\n",
    "            print(\"Não existe raiz no intervalo.\")\n",
    "            return\n",
    "        else:\n",
    "            x = (a_i + b_i)/2.\n",
    "\n",
    "            if (funcao(x) == 0):\n",
    "                print(\"A raiz encontrada é \", x)\n",
    "                return x\n",
    "            elif (a_infer*np.sign(funcao(x)) == -1): \n",
    "                b_i = x\n",
    "            else: \n",
    "                a_i = x\n",
    "            \n",
    "        erro = np.abs((x - x_old)/ np.abs(x)) \n",
    "        x_old = x\n",
    "        \n",
    "    return x, round(erro*100, 2)\n",
    "        \n",
    "        "
   ]
  },
  {
   "cell_type": "code",
   "execution_count": 194,
   "metadata": {},
   "outputs": [],
   "source": [
    "aproxima = 0.05\n",
    "a = 0\n",
    "b = 1\n",
    "raiz, e = bissecao4(a, b, aproxima)"
   ]
  },
  {
   "cell_type": "code",
   "execution_count": 195,
   "metadata": {},
   "outputs": [
    {
     "name": "stdout",
     "output_type": "stream",
     "text": [
      "O maximo encontrado da função: 0.84375 \n",
      "        a uma taxa de erro de: 3.7 %\n"
     ]
    }
   ],
   "source": [
    "print('O maximo encontrado da função:', raiz, \n",
    "      '\\n        a uma taxa de erro de:', e, '%')"
   ]
  },
  {
   "cell_type": "markdown",
   "metadata": {},
   "source": [
    "### 5.  \n",
    "   Embora a bisseção seja uma técnica perfeitamente válida para determinar raízes, sua abordagem do tipo “força bruta” é relativamente ineficiente. A falsa posição é uma alternativa baseada na percepção gráfica.\n",
    " \n",
    "   Uma deficiência do método da bisseção é que, na divisão do intervalo de $x_{l}$ a $x_{u}$ em metades iguais, não são levados em conta os módulos de $f (x_{l})$ e $f (x_{u})$. Por exemplo, se $f (x_{l})$ estiver muito mais próximo de zero do que $f (x_{u})$, será provável que a raiz esteja mais próxima de $x_{l}$ que de $x_{u}$.\n",
    " \n",
    "   Um método alternativo que explora essa percepção gráfica é ligar $f (x_{l})$ e $f (x_{u})$) por uma reta. A intersecção dessa reta com o eixo $x$ representa uma estimativa melhorada da raiz. O fato da substituição da curva por uma reta dar uma “falsa posição” da raiz é a origem do nome, método da falsa posição, ou, em latim, regula falsi. Ele também é chamado de método da interpolação linear. Para esse método, a aproximação da raiz é dada por\n",
    "\n",
    "$$\n",
    "x^{∗} = x_{u} -\\frac{f(x_{u})(x_{l} − x_{u})}{f(x_{l}) − f(x_{u})},$$\n",
    "\n",
    "em que $x^{∗}$ é a estimação da raiz na atual iteração,  $x_{l}$ a $x_{u}$ são, respectivamente, os limites inferior e superior do intervalo de verificação da raiz e $f (x_{l})$ e $f (x_{u})$ são os valores da função para esses limites.\n",
    "\n",
    "As bibliotecas numérica do python não trazem uma implementação desse método. Implementeo, teste-o com os exemplos do texto, comparando com o método da bisseção. Mostre que esse método, para vários casos, é mais eficiente que o da bisseção.\n"
   ]
  },
  {
   "cell_type": "code",
   "execution_count": 282,
   "metadata": {},
   "outputs": [],
   "source": [
    "def interpolacao_linear(a_i, b_i, aprox):\n",
    "    erro_i, x_old_i = 1, a_i\n",
    "    \n",
    "    a_b = a_i\n",
    "    b_b = b_i\n",
    "    erro_b = erro_i\n",
    "    x_old_b = x_old_i\n",
    "    \n",
    "    while(erro_i > aprox):\n",
    "        a_inf_i, b_sup_i = np.sign(funcao(a_i)), np.sign(funcao(b_i))\n",
    "       \n",
    "        a_inf_b, b_sup_b = np.sign(funcao(a_b)), np.sign(funcao(b_b))\n",
    "        \n",
    "        \n",
    "        if (a_inf_i*b_sup_i != -1):\n",
    "            print(\"Não existe raiz no intervalo.\")\n",
    "            return\n",
    "        else:\n",
    "            x_i = b_i - ((b_sup_i*(a_i - b_i))/(a_inf_i - b_sup_i))\n",
    "            \n",
    "            \n",
    "            if (funcao(x_i) == 0):\n",
    "                print(\"Raiz encontrada por interpolação: \", x_i)\n",
    "                return x\n",
    "            elif (a_inf_i*np.sign(funcao(x_i)) == -1): \n",
    "                b_i = x_i\n",
    "            else: \n",
    "                a_i = x_i\n",
    "        \n",
    "        if (a_inf_b*b_sup_b != -1):\n",
    "            print(\"Não existe raiz no intervalo.\")\n",
    "            return\n",
    "        else:  \n",
    "            x_b = (a_b + b_b)/2\n",
    "            if (funcao(x_b) == 0):\n",
    "                print(\"Raiz encontrada por bisseção: \", x_b)\n",
    "                return x\n",
    "            elif (a_inf_i*np.sign(funcao(x_b)) == -1): \n",
    "                b_b = x_b\n",
    "            else: \n",
    "                a_b = x_b  \n",
    "            \n",
    "            \n",
    "        erro_i = np.abs((x_i - x_old_i)/ np.abs(x_i)) \n",
    "        x_old_i = x_i\n",
    "        \n",
    "        erro_b = np.abs((x_b - x_old_b)/ np.abs(x_b)) \n",
    "        x_old_b = x_b\n",
    "        \n",
    "        print('  Erro Interpolação: ', round(erro_i, 5), \n",
    "              '\\n      Erro bisseção: ', round(erro_b, 5),'\\n\\n------------------------\\n' )\n",
    "        \n",
    "    return x_i, x_b"
   ]
  },
  {
   "cell_type": "code",
   "execution_count": 283,
   "metadata": {},
   "outputs": [],
   "source": [
    "def funcao(x): return 2 - np.exp(x) "
   ]
  },
  {
   "cell_type": "code",
   "execution_count": 284,
   "metadata": {},
   "outputs": [
    {
     "name": "stdout",
     "output_type": "stream",
     "text": [
      "  Erro Interpolação:  1.5 \n",
      "      Erro bisseção:  1.5 \n",
      "\n",
      "------------------------\n",
      "\n",
      "  Erro Interpolação:  3.0 \n",
      "      Erro bisseção:  3.0 \n",
      "\n",
      "------------------------\n",
      "\n",
      "  Erro Interpolação:  3.0 \n",
      "      Erro bisseção:  3.0 \n",
      "\n",
      "------------------------\n",
      "\n",
      "  Erro Interpolação:  0.6 \n",
      "      Erro bisseção:  0.6 \n",
      "\n",
      "------------------------\n",
      "\n",
      "  Erro Interpolação:  0.23077 \n",
      "      Erro bisseção:  0.23077 \n",
      "\n",
      "------------------------\n",
      "\n",
      "  Erro Interpolação:  0.13043 \n",
      "      Erro bisseção:  0.13043 \n",
      "\n",
      "------------------------\n",
      "\n",
      "  Erro Interpolação:  0.06977 \n",
      "      Erro bisseção:  0.06977 \n",
      "\n",
      "------------------------\n",
      "\n",
      "  Erro Interpolação:  0.03371 \n",
      "      Erro bisseção:  0.03371 \n",
      "\n",
      "------------------------\n",
      "\n",
      "  Erro Interpolação:  0.01714 \n",
      "      Erro bisseção:  0.01714 \n",
      "\n",
      "------------------------\n",
      "\n",
      "  Erro Interpolação:  0.0085 \n",
      "      Erro bisseção:  0.0085 \n",
      "\n",
      "------------------------\n",
      "\n",
      "A raiz da função f(x) no intervalo [ -5 , 1 ] \n",
      "     Pelo metodo da bisseção:  0.689453125 \n",
      " Pelo metodo da interpolação:  0.689453125\n"
     ]
    }
   ],
   "source": [
    "aproxima = 0.01\n",
    "a = -5\n",
    "b = 1\n",
    "\n",
    "#raiz_biss = bissecao(a, b, aproxima)\n",
    "raiz_inter, raiz_biss = interpolacao_linear(a, b, aproxima)\n",
    "\n",
    "print('A raiz da função f(x) no intervalo [', a, ',', b, '] \\n     Pelo metodo da bisseção: ', raiz_biss, \n",
    "     '\\n Pelo metodo da interpolação: ', raiz_inter)"
   ]
  },
  {
   "cell_type": "code",
   "execution_count": 285,
   "metadata": {},
   "outputs": [],
   "source": [
    "def funcao(x): return (x**5) + 2*(x**3) - (5*x)-2"
   ]
  },
  {
   "cell_type": "code",
   "execution_count": 286,
   "metadata": {},
   "outputs": [
    {
     "name": "stdout",
     "output_type": "stream",
     "text": [
      "  Erro Interpolação:  inf \n",
      "      Erro bisseção:  inf \n",
      "\n",
      "------------------------\n",
      "\n",
      "  Erro Interpolação:  1.0 \n",
      "      Erro bisseção:  1.0 \n",
      "\n",
      "------------------------\n",
      "\n",
      "  Erro Interpolação:  1.0 \n",
      "      Erro bisseção:  1.0 \n",
      "\n",
      "------------------------\n",
      "\n",
      "  Erro Interpolação:  1.0 \n",
      "      Erro bisseção:  1.0 \n",
      "\n",
      "------------------------\n",
      "\n",
      "  Erro Interpolação:  0.33333 \n",
      "      Erro bisseção:  0.33333 \n",
      "\n",
      "------------------------\n",
      "\n",
      "  Erro Interpolação:  0.2 \n",
      "      Erro bisseção:  0.2 \n",
      "\n",
      "------------------------\n",
      "\n",
      "  Erro Interpolação:  0.11111 \n",
      "      Erro bisseção:  0.11111 \n",
      "\n",
      "------------------------\n",
      "\n",
      "  Erro Interpolação:  0.05882 \n",
      "      Erro bisseção:  0.05882 \n",
      "\n",
      "------------------------\n",
      "\n",
      "  Erro Interpolação:  0.0303 \n",
      "      Erro bisseção:  0.0303 \n",
      "\n",
      "------------------------\n",
      "\n",
      "  Erro Interpolação:  0.01493 \n",
      "      Erro bisseção:  0.01493 \n",
      "\n",
      "------------------------\n",
      "\n",
      "  Erro Interpolação:  0.00741 \n",
      "      Erro bisseção:  0.00741 \n",
      "\n",
      "------------------------\n",
      "\n",
      "A raiz da função f(x) no intervalo [ -10 , 10 ] \n",
      "    Pela bisseção:  1.318359375 \n",
      " Por interpolação:  1.318359375\n"
     ]
    },
    {
     "name": "stderr",
     "output_type": "stream",
     "text": [
      "<ipython-input-282-702bf591e265>:44: RuntimeWarning: divide by zero encountered in double_scalars\n",
      "  erro_i = np.abs((x_i - x_old_i)/ np.abs(x_i))\n",
      "<ipython-input-282-702bf591e265>:47: RuntimeWarning: divide by zero encountered in double_scalars\n",
      "  erro_b = np.abs((x_b - x_old_b)/ np.abs(x_b))\n"
     ]
    }
   ],
   "source": [
    "aproxima = 0.01\n",
    "a = -10\n",
    "b = 10\n",
    "\n",
    "raiz_inter, raiz_biss = interpolacao_linear(a, b, aproxima)\n",
    "\n",
    "print('A raiz da função f(x) no intervalo [', a, ',', b, '] \\n    Pela bisseção: ', raiz_biss, \n",
    "     '\\n Por interpolação: ', raiz_inter)"
   ]
  },
  {
   "cell_type": "code",
   "execution_count": 287,
   "metadata": {},
   "outputs": [],
   "source": [
    "def funcao(x): return (x**4) - (x**2) -3 "
   ]
  },
  {
   "cell_type": "code",
   "execution_count": 288,
   "metadata": {},
   "outputs": [
    {
     "name": "stdout",
     "output_type": "stream",
     "text": [
      "  Erro Interpolação:  1.0 \n",
      "      Erro bisseção:  1.0 \n",
      "\n",
      "------------------------\n",
      "\n",
      "  Erro Interpolação:  1.0 \n",
      "      Erro bisseção:  1.0 \n",
      "\n",
      "------------------------\n",
      "\n",
      "  Erro Interpolação:  1.0 \n",
      "      Erro bisseção:  1.0 \n",
      "\n",
      "------------------------\n",
      "\n",
      "  Erro Interpolação:  0.33333 \n",
      "      Erro bisseção:  0.33333 \n",
      "\n",
      "------------------------\n",
      "\n",
      "  Erro Interpolação:  0.2 \n",
      "      Erro bisseção:  0.2 \n",
      "\n",
      "------------------------\n",
      "\n",
      "  Erro Interpolação:  0.11111 \n",
      "      Erro bisseção:  0.11111 \n",
      "\n",
      "------------------------\n",
      "\n",
      "  Erro Interpolação:  0.05263 \n",
      "      Erro bisseção:  0.05263 \n",
      "\n",
      "------------------------\n",
      "\n",
      "  Erro Interpolação:  0.02564 \n",
      "      Erro bisseção:  0.02564 \n",
      "\n",
      "------------------------\n",
      "\n",
      "  Erro Interpolação:  0.01299 \n",
      "      Erro bisseção:  0.01299 \n",
      "\n",
      "------------------------\n",
      "\n",
      "  Erro Interpolação:  0.00645 \n",
      "      Erro bisseção:  0.00645 \n",
      "\n",
      "------------------------\n",
      "\n",
      "A raiz da função f(x) no intervalo [ 0 , 10 ] \n",
      "     Pelo metodo da bisseção:  1.513671875 \n",
      " Pelo metodo da interpolação:  1.513671875\n"
     ]
    }
   ],
   "source": [
    "aproxima = 0.01\n",
    "a = 0\n",
    "b = 10\n",
    "\n",
    "raiz_inter, raiz_biss = interpolacao_linear(a, b, aproxima)\n",
    "\n",
    "print('A raiz da função f(x) no intervalo [', a, ',', b, '] \\n     Pelo metodo da bisseção: ', raiz_biss, \n",
    "     '\\n Pelo metodo da interpolação: ', raiz_inter)"
   ]
  },
  {
   "cell_type": "code",
   "execution_count": null,
   "metadata": {},
   "outputs": [],
   "source": []
  },
  {
   "cell_type": "code",
   "execution_count": null,
   "metadata": {},
   "outputs": [],
   "source": []
  }
 ],
 "metadata": {
  "kernelspec": {
   "display_name": "Python 3",
   "language": "python",
   "name": "python3"
  },
  "language_info": {
   "codemirror_mode": {
    "name": "ipython",
    "version": 3
   },
   "file_extension": ".py",
   "mimetype": "text/x-python",
   "name": "python",
   "nbconvert_exporter": "python",
   "pygments_lexer": "ipython3",
   "version": "3.8.3"
  }
 },
 "nbformat": 4,
 "nbformat_minor": 4
}
