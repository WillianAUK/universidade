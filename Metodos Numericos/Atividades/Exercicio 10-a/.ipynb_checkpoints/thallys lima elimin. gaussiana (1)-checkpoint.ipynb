{
 "cells": [
  {
   "cell_type": "markdown",
   "metadata": {},
   "source": [
    "# Exercício da quinta semana\n",
    "# Disciplina: Métodos Numéricos\n",
    "# Professor: Paulo Ribeiro\n",
    "# Aluno: Thallys Lima Nobre"
   ]
  },
  {
   "cell_type": "code",
   "execution_count": 1,
   "metadata": {},
   "outputs": [],
   "source": [
    "#importando bibliotecas necessárias\n",
    "import numpy as np\n",
    "import matplotlib.pyplot as plt\n",
    "import scipy.linalg as sla"
   ]
  },
  {
   "cell_type": "code",
   "execution_count": 2,
   "metadata": {},
   "outputs": [],
   "source": [
    "#Função da eliminação gaussiana\n",
    "def elimin_gaussiana(A,b):\n",
    "    Ab = np.c_[A,b]\n",
    "    n = len(A)\n",
    "    for c in range(n - 1):  \n",
    "        for l in range(c + 1, n):\n",
    "            p = np.abs(Ab[c:,c]).argmax() + c \n",
    "            Ab[[c,p]] = Ab[[p,c]]\n",
    "            Ab[l] = Ab[l] - (Ab[l,c] / Ab[c,c]) * Ab[c]\n",
    "    y = Ab[:,:-1]\n",
    "    z = Ab[:,-1]\n",
    "    n1 = len(z)\n",
    "    x = np.empty(n1)\n",
    "    if(y[-1,-1] == 0):\n",
    "        print(\"Matriz singular\")\n",
    "        return \n",
    "    x[-1] = z[-1] / y[-1,-1]\n",
    "    for i in range(n1-2, -1, -1):\n",
    "         x[i] = (z[i] - np.sum(y[i,i+1:] * x[i+1:])) / y[i,i]\n",
    "    return x"
   ]
  },
  {
   "cell_type": "markdown",
   "metadata": {},
   "source": [
    "                                                        Letra A\n",
    "###############################################################################################################################"
   ]
  },
  {
   "cell_type": "markdown",
   "metadata": {},
   "source": [
    "Resposta da função:"
   ]
  },
  {
   "cell_type": "code",
   "execution_count": 3,
   "metadata": {},
   "outputs": [
    {
     "name": "stdout",
     "output_type": "stream",
     "text": [
      "Matriz singular\n"
     ]
    }
   ],
   "source": [
    "A = np.array([[1,1,1],[4,4,2],[2,1,-1]])\n",
    "\n",
    "b = np.array([1,2,0])\n",
    "\n",
    "elimin_gaussiana(A,b)"
   ]
  },
  {
   "cell_type": "markdown",
   "metadata": {},
   "source": [
    "Resposta da função solve da biblioteca Scipy:"
   ]
  },
  {
   "cell_type": "code",
   "execution_count": 4,
   "metadata": {},
   "outputs": [
    {
     "data": {
      "text/plain": [
       "array([ 1., -1.,  1.])"
      ]
     },
     "execution_count": 4,
     "metadata": {},
     "output_type": "execute_result"
    }
   ],
   "source": [
    "sla.solve(A,b)"
   ]
  },
  {
   "cell_type": "markdown",
   "metadata": {},
   "source": [
    "                                                        Letra B\n",
    "###############################################################################################################################"
   ]
  },
  {
   "cell_type": "markdown",
   "metadata": {},
   "source": [
    "Resposta da função:"
   ]
  },
  {
   "cell_type": "code",
   "execution_count": 5,
   "metadata": {},
   "outputs": [
    {
     "data": {
      "text/plain": [
       "array([5.64285714, 5.64285714, 1.        ])"
      ]
     },
     "execution_count": 5,
     "metadata": {},
     "output_type": "execute_result"
    }
   ],
   "source": [
    "A = np.array([[7,-7,1],[-3,3,2],[7,7,-72]])\n",
    "\n",
    "b = np.array([1,2,7])\n",
    "\n",
    "elimin_gaussiana(A,b)"
   ]
  },
  {
   "cell_type": "markdown",
   "metadata": {},
   "source": [
    "Resposta da função solve da biblioteca Scipy:"
   ]
  },
  {
   "cell_type": "code",
   "execution_count": 6,
   "metadata": {},
   "outputs": [
    {
     "data": {
      "text/plain": [
       "array([5.64285714, 5.64285714, 1.        ])"
      ]
     },
     "execution_count": 6,
     "metadata": {},
     "output_type": "execute_result"
    }
   ],
   "source": [
    "sla.solve(A,b)"
   ]
  },
  {
   "cell_type": "markdown",
   "metadata": {},
   "source": [
    "                                                        Letra C\n",
    "###############################################################################################################################"
   ]
  },
  {
   "cell_type": "markdown",
   "metadata": {},
   "source": [
    "Resposta da função:"
   ]
  },
  {
   "cell_type": "code",
   "execution_count": 7,
   "metadata": {},
   "outputs": [
    {
     "data": {
      "text/plain": [
       "array([ 2., -2.,  2.,  4.])"
      ]
     },
     "execution_count": 7,
     "metadata": {},
     "output_type": "execute_result"
    }
   ],
   "source": [
    "A = np.array([[1,2,3,4],[2,2,3,4],[3,3,3,4],[4,4,4,4]])\n",
    "\n",
    "b = np.array([20,22,22,24])\n",
    "\n",
    "elimin_gaussiana(A,b)"
   ]
  },
  {
   "cell_type": "markdown",
   "metadata": {},
   "source": [
    "Resposta da função solve da biblioteca Scipy:"
   ]
  },
  {
   "cell_type": "code",
   "execution_count": 8,
   "metadata": {},
   "outputs": [
    {
     "data": {
      "text/plain": [
       "array([ 2., -2.,  2.,  4.])"
      ]
     },
     "execution_count": 8,
     "metadata": {},
     "output_type": "execute_result"
    }
   ],
   "source": [
    "sla.solve(A,b)"
   ]
  }
 ],
 "metadata": {
  "kernelspec": {
   "display_name": "Python 3",
   "language": "python",
   "name": "python3"
  },
  "language_info": {
   "codemirror_mode": {
    "name": "ipython",
    "version": 3
   },
   "file_extension": ".py",
   "mimetype": "text/x-python",
   "name": "python",
   "nbconvert_exporter": "python",
   "pygments_lexer": "ipython3",
   "version": "3.8.3"
  }
 },
 "nbformat": 4,
 "nbformat_minor": 5
}
