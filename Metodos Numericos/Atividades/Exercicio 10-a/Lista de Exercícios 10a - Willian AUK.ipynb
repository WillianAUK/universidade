{
 "cells": [
  {
   "cell_type": "markdown",
   "metadata": {},
   "source": [
    "# <center>__MÉTODOS NUMÉRICOS__</center>\n",
    "## <center>__Lista de Exercícios 10a__</center>\n",
    "\n",
    "### <center>__Aluno: Willian Adriano Ullmann Klein__</center>\n",
    "### <center>__Professor: Paulo Ribeiro__</center>"
   ]
  },
  {
   "cell_type": "markdown",
   "metadata": {},
   "source": [
    "Implemente uma função que use eliminação gaussiana com pivotamento parcial para encontrar o\n",
    "vetor solução de um sistema de equações lineares.\n",
    "\n",
    "Essa função terá de contemplar as duas etapas do processo: a eliminação, cujo algoritmo é discutido no notebook das aulas da semana, e que terá como saída a matriz escalonada e a substituição retroativa, que encontrará a solução do sistema triangular superior obtido do escalonamento, e cuja implementação já foi feita por vocês em exercício anterior."
   ]
  },
  {
   "cell_type": "code",
   "execution_count": 1,
   "metadata": {},
   "outputs": [],
   "source": [
    "#Bibliotecas necessárias para a implementação:\n",
    "\n",
    "import numpy as np\n",
    "import matplotlib.pyplot as plt\n",
    "import scipy.linalg as sla"
   ]
  },
  {
   "cell_type": "code",
   "execution_count": 2,
   "metadata": {},
   "outputs": [],
   "source": [
    "\n",
    "def eliminacao_gaussiana(A,b):\n",
    "    Ab = np.c_[A,b]\n",
    "    n = len(A)\n",
    "    for c in range(n - 1):  \n",
    "        for l in range(c + 1, n):\n",
    "            p = np.abs(Ab[c:,c]).argmax() + c \n",
    "            Ab[[c,p]] = Ab[[p,c]]\n",
    "            Ab[l] = Ab[l] - (Ab[l,c] / Ab[c,c]) * Ab[c]\n",
    "    y = Ab[:,:-1]\n",
    "    z = Ab[:,-1]\n",
    "    n1 = len(z)\n",
    "    x = np.empty(n1)\n",
    "    if(y[-1,-1] == 0):\n",
    "        print(\"Matriz singular.\")\n",
    "        return \n",
    "    x[-1] = z[-1] / y[-1,-1]\n",
    "    for i in range(n1-2, -1, -1):\n",
    "         x[i] = (z[i] - np.sum(y[i,i+1:] * x[i+1:])) / y[i,i]\n",
    "    return x"
   ]
  },
  {
   "cell_type": "markdown",
   "metadata": {},
   "source": [
    "Para testar e verificar se a função de vocês está corretamente implementada, compare os resultados\n",
    "com a função solve da biblioteca Scipy, cujo uso também foi discutido no notebook, para os seguintes\n",
    "exemplos de sistemas:"
   ]
  },
  {
   "cell_type": "markdown",
   "metadata": {},
   "source": [
    "<div class=\"alert alert-block alert-info\">\n",
    "(a)\n",
    "<center>$x_1 + x_2 + x_3 = 1$</center>\n",
    "<center>$4x_1 + 4x_2 + 2x_3 = 2$</center>\n",
    "<center>$2x_1 + x_2 − x_3= 0$</center>\n",
    "      </div>"
   ]
  },
  {
   "cell_type": "code",
   "execution_count": 3,
   "metadata": {},
   "outputs": [],
   "source": [
    "# A resposta para a função em matriz A e B:\n",
    "\n",
    "A = np.array([[1,1,1],[4,4,2],[2,1,-1]])\n",
    "B = np.array([1,2,0])"
   ]
  },
  {
   "cell_type": "code",
   "execution_count": 4,
   "metadata": {},
   "outputs": [
    {
     "name": "stdout",
     "output_type": "stream",
     "text": [
      "Matriz singular.\n",
      "\n",
      "\n"
     ]
    }
   ],
   "source": [
    "# Aplicando na função de eleminação gaussiana\n",
    "\n",
    "\n",
    "eliminacao_gaussiana(A,B)\n",
    "print(\"\\n\")"
   ]
  },
  {
   "cell_type": "code",
   "execution_count": 5,
   "metadata": {},
   "outputs": [
    {
     "name": "stdout",
     "output_type": "stream",
     "text": [
      "Array:  [ 1. -1.  1.] \n",
      "\n",
      "\n"
     ]
    }
   ],
   "source": [
    "#utilizando a função solve da biblioteca scipy, obtemos:\n",
    "\n",
    "print(\"Array: \",sla.solve(A,B),\"\\n\\n\")"
   ]
  },
  {
   "cell_type": "markdown",
   "metadata": {},
   "source": [
    "<div class=\"alert alert-block alert-info\">\n",
    "(b)\n",
    "<center>$7x_1 − 7x_2 + x_3 = 1$</center>\n",
    "<center>$−3x_1 + 3x_2 + 2x_3 = 2$</center>\n",
    "<center>$7x_1 + 7x_2 − 72x_3 = 7$</center>\n",
    "    </div>"
   ]
  },
  {
   "cell_type": "code",
   "execution_count": 6,
   "metadata": {},
   "outputs": [],
   "source": [
    "# A resposta para a função em matriz A e B:\n",
    "\n",
    "A = np.array([[7,-7,1],[-3,3,2],[7,7,-72]])\n",
    "B = np.array([1,2,7])"
   ]
  },
  {
   "cell_type": "code",
   "execution_count": 7,
   "metadata": {},
   "outputs": [
    {
     "name": "stdout",
     "output_type": "stream",
     "text": [
      "Array:  [5.64285714 5.64285714 1.        ] \n",
      "\n"
     ]
    }
   ],
   "source": [
    "# Aplicando na função de eleminação gaussiana\n",
    "\n",
    "print(\"Array: \",eliminacao_gaussiana(A,B),\"\\n\")"
   ]
  },
  {
   "cell_type": "code",
   "execution_count": 8,
   "metadata": {},
   "outputs": [
    {
     "name": "stdout",
     "output_type": "stream",
     "text": [
      "Array:  [5.64285714 5.64285714 1.        ] \n",
      "\n",
      "\n"
     ]
    }
   ],
   "source": [
    "#utilizando a função solve da biblioteca scipy, obtemos:\n",
    "\n",
    "print(\"Array: \",sla.solve(A,B),\"\\n\\n\")"
   ]
  },
  {
   "cell_type": "markdown",
   "metadata": {},
   "source": [
    "<div class=\"alert alert-block alert-info\">\n",
    "(c)\n",
    "<center>$x_1 + 2x_2 + 3x_3 + 4x_4 = 20$</center>\n",
    "<center>$2x_1 + 2x_2 + 3x_3 + 4x_4 = 22$</center>\n",
    "<center>$3x_1 + 3x_2 + 3x_3 + 4x_4 = 22$</center>\n",
    "<center>$4x_1 + 4x_2 + 4x_3 + 4x_4 = 24$</center>\n",
    "</div>"
   ]
  },
  {
   "cell_type": "code",
   "execution_count": 9,
   "metadata": {},
   "outputs": [],
   "source": [
    "# A resposta para a função em matriz A e B:\n",
    "\n",
    "A = np.array([[1,2,3,4],[2,2,3,4],[3,3,3,4],[4,4,4,4]])\n",
    "B = np.array([20,22,22,24])"
   ]
  },
  {
   "cell_type": "code",
   "execution_count": 10,
   "metadata": {},
   "outputs": [
    {
     "name": "stdout",
     "output_type": "stream",
     "text": [
      "Array:  [ 2. -2.  2.  4.] \n",
      "\n"
     ]
    }
   ],
   "source": [
    "# Aplicando na função de eleminação gaussiana\n",
    "\n",
    "print(\"Array: \",eliminacao_gaussiana(A,B),\"\\n\")"
   ]
  },
  {
   "cell_type": "code",
   "execution_count": 11,
   "metadata": {},
   "outputs": [
    {
     "name": "stdout",
     "output_type": "stream",
     "text": [
      "Array:  [ 2. -2.  2.  4.] \n",
      "\n",
      "\n"
     ]
    }
   ],
   "source": [
    "#utilizando a função solve da biblioteca scipy, obtemos:\n",
    "\n",
    "print(\"Array: \",sla.solve(A,B),\"\\n\\n\")"
   ]
  },
  {
   "cell_type": "code",
   "execution_count": null,
   "metadata": {},
   "outputs": [],
   "source": []
  }
 ],
 "metadata": {
  "kernelspec": {
   "display_name": "Python 3",
   "language": "python",
   "name": "python3"
  },
  "language_info": {
   "codemirror_mode": {
    "name": "ipython",
    "version": 3
   },
   "file_extension": ".py",
   "mimetype": "text/x-python",
   "name": "python",
   "nbconvert_exporter": "python",
   "pygments_lexer": "ipython3",
   "version": "3.8.3"
  }
 },
 "nbformat": 4,
 "nbformat_minor": 4
}
