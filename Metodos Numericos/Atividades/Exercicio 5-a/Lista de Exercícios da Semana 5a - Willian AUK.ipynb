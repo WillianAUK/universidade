{
 "cells": [
  {
   "cell_type": "code",
   "execution_count": 1,
   "metadata": {},
   "outputs": [],
   "source": [
    "import numpy as np\n",
    "import scipy.optimize as opt\n",
    "import matplotlib.pyplot as plt"
   ]
  },
  {
   "cell_type": "markdown",
   "metadata": {},
   "source": [
    "### 1. \n",
    "Implemente os algoritmos da iteração de ponto fixo, Newton-Raphson e secante usando somente a biblioteca Numpy"
   ]
  },
  {
   "cell_type": "code",
   "execution_count": 2,
   "metadata": {},
   "outputs": [],
   "source": [
    "fA = lambda x: np.cos(x) - np.sin(x)\n",
    "fADT = lambda x: -np.sin(x) - np.cos(x)"
   ]
  },
  {
   "cell_type": "code",
   "execution_count": 3,
   "metadata": {},
   "outputs": [
    {
     "name": "stdout",
     "output_type": "stream",
     "text": [
      "Ponto fixo: 0.4566247045676308\n",
      "\n"
     ]
    }
   ],
   "source": [
    "print(f\"Ponto fixo: {opt.fixed_point(fA, x0=-1, xtol=10e-10)}\\n\")"
   ]
  },
  {
   "cell_type": "code",
   "execution_count": 4,
   "metadata": {},
   "outputs": [
    {
     "name": "stdout",
     "output_type": "stream",
     "text": [
      "Newton-Raphson:\n",
      "       converged: True\n",
      "           flag: 'converged'\n",
      " function_calls: 8\n",
      "     iterations: 4\n",
      "           root: -5.497787143782138\n",
      "\n"
     ]
    }
   ],
   "source": [
    "print(f\"Newton-Raphson:\\n {opt.root_scalar(fA, fprime=fADT, x0=-1, x1=1, rtol=10e-10, method='newton')}\\n\")"
   ]
  },
  {
   "cell_type": "code",
   "execution_count": 5,
   "metadata": {},
   "outputs": [
    {
     "name": "stdout",
     "output_type": "stream",
     "text": [
      "Secante:\n",
      "       converged: True\n",
      "           flag: 'converged'\n",
      " function_calls: 7\n",
      "     iterations: 6\n",
      "           root: 0.7853981633974484\n",
      "\n"
     ]
    }
   ],
   "source": [
    "print(f\"Secante:\\n {opt.root_scalar(fA, x0=-1, x1=1, rtol=10e-10, method='secant')}\\n\")"
   ]
  },
  {
   "cell_type": "code",
   "execution_count": null,
   "metadata": {},
   "outputs": [],
   "source": []
  },
  {
   "cell_type": "markdown",
   "metadata": {},
   "source": [
    "### 2.\n",
    "Use a iteração de ponto fixo simples para localizar a raiz de $f (x) = 2 sin(x^{1/2})− x$, tendo $x_0 = 0,5$\n",
    "e adotando como critério de parada o erro ea ≤ 0, 001%."
   ]
  },
  {
   "cell_type": "code",
   "execution_count": 6,
   "metadata": {},
   "outputs": [
    {
     "data": {
      "text/plain": [
       "array(0.76864886)"
      ]
     },
     "execution_count": 6,
     "metadata": {},
     "output_type": "execute_result"
    }
   ],
   "source": [
    "fB = lambda x: 2*np.sin(np.sqrt(x)) - x\n",
    "opt.fixed_point(fB, x0=0.5, xtol=1e-3)"
   ]
  },
  {
   "cell_type": "code",
   "execution_count": null,
   "metadata": {},
   "outputs": [],
   "source": []
  },
  {
   "cell_type": "markdown",
   "metadata": {},
   "source": [
    "### 3.\n",
    "Determine a maior raiz real de $ f (x) = 2x^3 − 11.7x^2 + 17.7x − 5$\n"
   ]
  },
  {
   "cell_type": "code",
   "execution_count": 7,
   "metadata": {},
   "outputs": [],
   "source": [
    "fC = lambda x: 2*(x**3) - 11.7*(x**2) + 17.7*x - 5\n",
    "fCDT = lambda x: 6*(x**2) - 23.4*x + 17.7\n",
    "\n",
    "xC = np.linspace(-1, 2, 1000)\n",
    "rootC = [975]"
   ]
  },
  {
   "cell_type": "markdown",
   "metadata": {},
   "source": [
    "#### (a) \n",
    "Graficamente:\n"
   ]
  },
  {
   "cell_type": "code",
   "execution_count": 8,
   "metadata": {},
   "outputs": [
    {
     "data": {
      "text/plain": [
       "[]"
      ]
     },
     "execution_count": 8,
     "metadata": {},
     "output_type": "execute_result"
    },
    {
     "data": {
      "image/png": "[encoded data removed]",
      "text/plain": [
       "<Figure size 432x288 with 1 Axes>"
      ]
     },
     "metadata": {
      "needs_background": "light"
     },
     "output_type": "display_data"
    }
   ],
   "source": [
    "figA, axA = plt.subplots()\n",
    "axA.spines['top'].set_color('none')\n",
    "axA.spines['bottom'].set_position('zero')\n",
    "axA.spines['left'].set_position('zero')\n",
    "axA.spines['right'].set_color('none')\n",
    "# A marcação é a aproximação da maior raiz\n",
    "axA.plot(xC, fC(xC), label=\"$2*x^{3} - 11.7*x^{2} + 17.7 - 5$\", marker=\"o\", markevery=rootC)\n",
    "plt.legend()\n",
    "plt.xticks(np.arange(-2, 3, step=0.5), rotation=90)\n",
    "plt.yticks(np.arange(-100, 20, step=10.0))\n",
    "plt.title(\"Graficamente\")\n",
    "plt.plot()"
   ]
  },
  {
   "cell_type": "markdown",
   "metadata": {},
   "source": [
    "#### (b)\n",
    "Pelo método da iteração de ponto fixo (três iterações, $x_0 = 3$)( certifique-se de desenvolver\n",
    "uma solução que convirja para a raiz);"
   ]
  },
  {
   "cell_type": "code",
   "execution_count": 9,
   "metadata": {},
   "outputs": [
    {
     "name": "stdout",
     "output_type": "stream",
     "text": [
      "Ponto fixo: 0.4077785252341441\n",
      "\n"
     ]
    }
   ],
   "source": [
    "print(f\"Ponto fixo: {opt.fixed_point(fC, x0=-1, xtol=10e-10)}\\n\")"
   ]
  },
  {
   "cell_type": "markdown",
   "metadata": {},
   "source": [
    "#### (c) \n",
    "Pelo método de Newton-Raphson (três iterações, $x_0 = 3$);"
   ]
  },
  {
   "cell_type": "code",
   "execution_count": 10,
   "metadata": {},
   "outputs": [
    {
     "name": "stdout",
     "output_type": "stream",
     "text": [
      "\n",
      "Newton-Raphson:\n",
      "       converged: False\n",
      "           flag: 'convergence error'\n",
      " function_calls: 6\n",
      "     iterations: 3\n",
      "           root: 3.7929344806432264\n",
      "\n"
     ]
    }
   ],
   "source": [
    "print(f\"\\nNewton-Raphson:\\n {opt.root_scalar(fC, fprime=fCDT, x0=3, maxiter=3,method='newton')}\\n\")"
   ]
  },
  {
   "cell_type": "markdown",
   "metadata": {},
   "source": [
    "#### (d) \n",
    "Pelo método da secante (três iterações, $x_−1 = 3, x_0 = 4$)."
   ]
  },
  {
   "cell_type": "code",
   "execution_count": 11,
   "metadata": {},
   "outputs": [
    {
     "name": "stdout",
     "output_type": "stream",
     "text": [
      "\n",
      "Secante:\n",
      "       converged: False\n",
      "           flag: 'convergence error'\n",
      " function_calls: 5\n",
      "     iterations: 3\n",
      "           root: 3.5862753847117346\n",
      "\n"
     ]
    }
   ],
   "source": [
    "print(f\"\\nSecante:\\n {opt.root_scalar(fC, x0=3, x1=4, maxiter=3, method='secant')}\\n\")"
   ]
  },
  {
   "cell_type": "markdown",
   "metadata": {},
   "source": []
  },
  {
   "cell_type": "markdown",
   "metadata": {},
   "source": [
    "### 4.\n",
    "Compare os métodos da bisseção, falsa posição, do ponto fixo, de Newton-Raphson e da secante, localizando a raiz das seguintes equações:\n",
    "\n",
    "Para as avaliações, deve-se considerar:\n",
    "\n",
    "• o número máximo de iterações de todos os métodos testados não pode ultrapassar 200;\n",
    "\n",
    "• a tolerância deve ser de $10^{−10}$;\n",
    "\n",
    "• para os métodos abertos, escolha os limites do intervalo, respectivamente como $x_{?1}$ e $x_0$.\n",
    "\n",
    "Para cada método, estamos interessados em comparar:\n",
    "\n",
    "• raiz;\n",
    "\n",
    "• número de iterações até o critério de parada;\n",
    "\n",
    "• se houve erro de convergência;\n",
    "\n",
    "• tempo de cálculo (procure como calcular tempo de execução usando jupyter notebooks, como $ {%timeit}$.\n"
   ]
  },
  {
   "cell_type": "code",
   "execution_count": 12,
   "metadata": {},
   "outputs": [],
   "source": [
    "RTOL = 10e-10\n",
    "MAXITER = 200"
   ]
  },
  {
   "cell_type": "code",
   "execution_count": 13,
   "metadata": {},
   "outputs": [],
   "source": [
    "def regulaFalsi(f, a, b):\n",
    "    global MAXITER, RTOL\n",
    "    converged = True\n",
    "    flag = \"converged\"\n",
    "    res = float(\"inf\")\n",
    "    sA = np.sign(f(a))\n",
    "    sB = np.sign(f(b))\n",
    "    erro = 1\n",
    "    res_ant = 0\n",
    "    i = 0\n",
    "    if sA * sB == -1:\n",
    "        while erro > RTOL and i < MAXITER:\n",
    "            res = b - ((f(b) * (a - b)) / (f(a) - f(b)))\n",
    "            if f(res) == 0:\n",
    "                break\n",
    "            else:\n",
    "                if sA * np.sign(f(res)) == -1:\n",
    "                    b = res\n",
    "                else:\n",
    "                    a = res\n",
    "            erro = np.abs(a - b)/(np.abs(a) + np.abs(b)/2) # evitando divisao por 0\n",
    "            res_ant = res\n",
    "            i += 1\n",
    "        if erro > RTOL:\n",
    "            flag = \"convergence error\"\n",
    "            converged = False\n",
    "    return {\n",
    "            \"converged\": converged,\n",
    "            \"flag\": flag,\n",
    "            \"iterations\": i,\n",
    "            \"root\": res\n",
    "           }"
   ]
  },
  {
   "cell_type": "code",
   "execution_count": 14,
   "metadata": {},
   "outputs": [],
   "source": [
    "def allFunctions(f, fDT, a, b):\n",
    "    global MAXITER, RTOL\n",
    "    try:\n",
    "        print(\"Bisseção\")\n",
    "        %timeit opt.root_scalar(f, bracket=[a, b], rtol=RTOL, maxiter=MAXITER, method=\"bisect\")\n",
    "        print(opt.root_scalar(f, bracket=[a, b], rtol=RTOL, maxiter=MAXITER, method=\"bisect\"))\n",
    "    except Exception as e:\n",
    "        print(e)\n",
    "    try:\n",
    "        print(\"\\nFalsa posição\")\n",
    "        %timeit regulaFalsi(f, a, b)\n",
    "        print(regulaFalsi(f, a, b))\n",
    "    except Exception as e:\n",
    "        print(e)\n",
    "    try:\n",
    "        print(\"\\nPonto fixo\")\n",
    "        %timeit opt.fixed_point(f, x0=a, xtol=RTOL, maxiter=MAXITER)\n",
    "        print(opt.fixed_point(f, x0=a, xtol=RTOL, maxiter=MAXITER))\n",
    "    except Exception as e:\n",
    "        print(e)\n",
    "    try:\n",
    "        print(\"\\nNewton-Raphson\")\n",
    "        %timeit opt.root_scalar(f, fprime=fDT, x0=a, x1=b, rtol=RTOL, maxiter=MAXITER, method=\"newton\")\n",
    "        print(opt.root_scalar(f, fprime=fDT, x0=a, x1=b, rtol=RTOL, maxiter=MAXITER, method=\"newton\"))\n",
    "    except Exception as e:\n",
    "        print(e)\n",
    "    try:\n",
    "        print(\"\\nSecante\")\n",
    "        %timeit opt.root_scalar(f, x0=a, x1=b, rtol=RTOL, maxiter=MAXITER, method=\"secant\")\n",
    "        print(opt.root_scalar(f, x0=a, x1=b, rtol=RTOL, maxiter=MAXITER, method=\"secant\"))\n",
    "    except Exception as e:\n",
    "        print(e)"
   ]
  },
  {
   "cell_type": "markdown",
   "metadata": {},
   "source": [
    "#### Letra (a)"
   ]
  },
  {
   "cell_type": "code",
   "execution_count": 15,
   "metadata": {},
   "outputs": [],
   "source": [
    "# função letra (a)\n",
    "\n",
    "fAA = lambda x: 2*(x**4) + 4*(x**3) + 3*(x**2) - 10*x - 15\n",
    "fAADT = lambda x: 8*(x**3) + 12*(x**2) + 6*x - 10\n",
    "arrAA = np.linspace(-1, 4, 100)\n",
    "xAAa = 0\n",
    "xAAb = 3"
   ]
  },
  {
   "cell_type": "code",
   "execution_count": 16,
   "metadata": {},
   "outputs": [
    {
     "name": "stdout",
     "output_type": "stream",
     "text": [
      "Bisseção\n",
      "55.2 µs ± 18.7 µs per loop (mean ± std. dev. of 7 runs, 10000 loops each)\n",
      "      converged: True\n",
      "           flag: 'converged'\n",
      " function_calls: 33\n",
      "     iterations: 31\n",
      "           root: 1.4928787085227668\n",
      "\n",
      "Falsa posição\n",
      "1.58 ms ± 124 µs per loop (mean ± std. dev. of 7 runs, 1000 loops each)\n",
      "{'converged': True, 'flag': 'converged', 'iterations': 100, 'root': 1.4928787086636037}\n",
      "\n",
      "Ponto fixo\n",
      "31 ms ± 2.19 ms per loop (mean ± std. dev. of 7 runs, 10 loops each)\n",
      "-1.2164931649051722\n",
      "\n",
      "Newton-Raphson\n",
      "251 µs ± 19.3 µs per loop (mean ± std. dev. of 7 runs, 1000 loops each)\n",
      "      converged: True\n",
      "           flag: 'converged'\n",
      " function_calls: 12\n",
      "     iterations: 6\n",
      "           root: -1.3003841326439198\n",
      "\n",
      "Secante\n",
      "458 µs ± 34.8 µs per loop (mean ± std. dev. of 7 runs, 1000 loops each)\n",
      "      converged: True\n",
      "           flag: 'converged'\n",
      " function_calls: 12\n",
      "     iterations: 11\n",
      "           root: -1.3003841326439196\n"
     ]
    }
   ],
   "source": [
    "# Execução função letra (a)\n",
    "\n",
    "allFunctions(fAA, fAADT, xAAa, xAAb)"
   ]
  },
  {
   "cell_type": "markdown",
   "metadata": {},
   "source": [
    "#### Letra (b)"
   ]
  },
  {
   "cell_type": "code",
   "execution_count": 17,
   "metadata": {},
   "outputs": [],
   "source": [
    "# função letra (b)\n",
    "\n",
    "fBB = lambda x: (x+3)*(x+1)*((x-2)**3)\n",
    "fBBDT = lambda x: 4*(x**3) - 18*x + 4\n",
    "arrBB = np.linspace(-1, 6, 100)\n",
    "xBBa = 0\n",
    "xBBb = 5"
   ]
  },
  {
   "cell_type": "code",
   "execution_count": 18,
   "metadata": {},
   "outputs": [
    {
     "name": "stdout",
     "output_type": "stream",
     "text": [
      "Bisseção\n",
      "30.1 µs ± 1.43 µs per loop (mean ± std. dev. of 7 runs, 10000 loops each)\n",
      "      converged: True\n",
      "           flag: 'converged'\n",
      " function_calls: 34\n",
      "     iterations: 32\n",
      "           root: 2.000000000698492\n",
      "\n",
      "Falsa posição\n",
      "2.36 ms ± 171 µs per loop (mean ± std. dev. of 7 runs, 100 loops each)\n",
      "{'converged': False, 'flag': 'convergence error', 'iterations': 200, 'root': 1.7144091362276437}\n",
      "\n",
      "Ponto fixo\n",
      "Failed to converge after 200 iterations, value is 0.013625597448023453\n",
      "\n",
      "Newton-Raphson\n",
      "12.7 ms ± 625 µs per loop (mean ± std. dev. of 7 runs, 100 loops each)\n",
      "      converged: False\n",
      "           flag: 'convergence error'\n",
      " function_calls: 400\n",
      "     iterations: 200\n",
      "           root: nan\n",
      "\n",
      "Secante\n",
      "2.33 ms ± 169 µs per loop (mean ± std. dev. of 7 runs, 100 loops each)\n",
      "      converged: True\n",
      "           flag: 'converged'\n",
      " function_calls: 60\n",
      "     iterations: 59\n",
      "           root: 2.000000051206814\n"
     ]
    }
   ],
   "source": [
    "# Execução função letra (b)\n",
    "\n",
    "allFunctions(fBB, fBBDT, xBBa, xBBb)"
   ]
  },
  {
   "cell_type": "markdown",
   "metadata": {},
   "source": [
    "#### Letra (c)"
   ]
  },
  {
   "cell_type": "code",
   "execution_count": 19,
   "metadata": {},
   "outputs": [],
   "source": [
    "# função letra (c)\n",
    "\n",
    "fCC = lambda x: 5*(x**3) + x**2 - np.exp(1 - (2*x)) + np.cos(x) + 20\n",
    "fCCDT = lambda x: 15*(x**2) + 2*x + 2*np.exp((-2*x) + 1) - np.sin(x)\n",
    "arrCC = np.linspace(-6, 6, 100)\n",
    "xCCa = -5\n",
    "xCCb = 5"
   ]
  },
  {
   "cell_type": "code",
   "execution_count": 20,
   "metadata": {},
   "outputs": [
    {
     "name": "stdout",
     "output_type": "stream",
     "text": [
      "Bisseção\n",
      "146 µs ± 7.83 µs per loop (mean ± std. dev. of 7 runs, 10000 loops each)\n",
      "      converged: True\n",
      "           flag: 'converged'\n",
      " function_calls: 36\n",
      "     iterations: 34\n",
      "           root: -0.9295604593353346\n",
      "\n",
      "Falsa posição\n",
      "14.2 ms ± 4.27 ms per loop (mean ± std. dev. of 7 runs, 100 loops each)\n",
      "{'converged': False, 'flag': 'convergence error', 'iterations': 200, 'root': 1.5687692610780044}\n",
      "\n",
      "Ponto fixo\n"
     ]
    },
    {
     "name": "stderr",
     "output_type": "stream",
     "text": [
      "<ipython-input-19-ddb63f2204d3>:3: RuntimeWarning: overflow encountered in exp\n",
      "  fCC = lambda x: 5*(x**3) + x**2 - np.exp(1 - (2*x)) + np.cos(x) + 20\n"
     ]
    },
    {
     "name": "stdout",
     "output_type": "stream",
     "text": [
      "313 µs ± 27 µs per loop (mean ± std. dev. of 7 runs, 1000 loops each)\n",
      "-5.0\n",
      "\n",
      "Newton-Raphson\n",
      "987 µs ± 76.1 µs per loop (mean ± std. dev. of 7 runs, 1000 loops each)\n",
      "      converged: True\n",
      "           flag: 'converged'\n",
      " function_calls: 26\n",
      "     iterations: 13\n",
      "           root: -0.9295604598378413\n",
      "\n",
      "Secante\n",
      "2.01 ms ± 150 µs per loop (mean ± std. dev. of 7 runs, 1000 loops each)\n",
      "      converged: True\n",
      "           flag: 'converged'\n",
      " function_calls: 24\n",
      "     iterations: 23\n",
      "           root: -0.9295604598378417\n"
     ]
    }
   ],
   "source": [
    "# Execução função letra (c)\n",
    "\n",
    "allFunctions(fCC, fCCDT, xCCa, xCCb)"
   ]
  },
  {
   "cell_type": "markdown",
   "metadata": {},
   "source": [
    "#### Letra (d)"
   ]
  },
  {
   "cell_type": "code",
   "execution_count": 21,
   "metadata": {},
   "outputs": [],
   "source": [
    "# função letra (d)\n",
    "\n",
    "fDD = lambda x: np.sin(x)*x + 4\n",
    "fDDDT = lambda x: x*np.cos(x) + np.sin(x)\n",
    "arrDD = np.linspace(0, 6, 100)\n",
    "xDDa = 1\n",
    "xDDb = 5"
   ]
  },
  {
   "cell_type": "code",
   "execution_count": 22,
   "metadata": {},
   "outputs": [
    {
     "name": "stdout",
     "output_type": "stream",
     "text": [
      "Bisseção\n",
      "88.7 µs ± 5.6 µs per loop (mean ± std. dev. of 7 runs, 10000 loops each)\n",
      "      converged: True\n",
      "           flag: 'converged'\n",
      " function_calls: 32\n",
      "     iterations: 30\n",
      "           root: 4.323239546269178\n",
      "\n",
      "Falsa posição\n",
      "4.88 ms ± 402 µs per loop (mean ± std. dev. of 7 runs, 100 loops each)\n",
      "{'converged': False, 'flag': 'convergence error', 'iterations': 200, 'root': 4.323239543713715}\n",
      "\n",
      "Ponto fixo\n",
      "1.54 ms ± 206 µs per loop (mean ± std. dev. of 7 runs, 1000 loops each)\n",
      "3.340370922950309\n",
      "\n",
      "Newton-Raphson\n",
      "656 µs ± 46.9 µs per loop (mean ± std. dev. of 7 runs, 1000 loops each)\n",
      "      converged: True\n",
      "           flag: 'converged'\n",
      " function_calls: 16\n",
      "     iterations: 8\n",
      "           root: -5.461308012588998\n",
      "\n",
      "Secante\n",
      "409 µs ± 25.6 µs per loop (mean ± std. dev. of 7 runs, 1000 loops each)\n",
      "      converged: True\n",
      "           flag: 'converged'\n",
      " function_calls: 8\n",
      "     iterations: 7\n",
      "           root: 4.323239543713714\n"
     ]
    }
   ],
   "source": [
    "# Execução função letra (d)\n",
    "\n",
    "allFunctions(fDD, fDDDT, xDDa, xDDb)"
   ]
  },
  {
   "cell_type": "markdown",
   "metadata": {},
   "source": [
    "#### Letra (e)"
   ]
  },
  {
   "cell_type": "code",
   "execution_count": 23,
   "metadata": {},
   "outputs": [],
   "source": [
    "# função letra (e)\n",
    "\n",
    "fEE = lambda x: (x - 3)**5 * np.log(x)\n",
    "fEEDT = lambda x: 5*np.log(x) * (x - 4)**5 + ((x - 3)**5/x)\n",
    "arrEE = np.linspace(1, 6, 100)\n",
    "xEEa = 2\n",
    "xEEb = 5"
   ]
  },
  {
   "cell_type": "code",
   "execution_count": 24,
   "metadata": {},
   "outputs": [
    {
     "name": "stdout",
     "output_type": "stream",
     "text": [
      "Bisseção\n",
      "92.8 µs ± 11.8 µs per loop (mean ± std. dev. of 7 runs, 10000 loops each)\n",
      "      converged: True\n",
      "           flag: 'converged'\n",
      " function_calls: 32\n",
      "     iterations: 30\n",
      "           root: 2.9999999990686774\n",
      "\n",
      "Falsa posição\n",
      "5.72 ms ± 537 µs per loop (mean ± std. dev. of 7 runs, 100 loops each)\n",
      "{'converged': False, 'flag': 'convergence error', 'iterations': 200, 'root': 2.593909764205461}\n",
      "\n",
      "Ponto fixo\n",
      "Failed to converge after 200 iterations, value is nan\n",
      "\n",
      "Newton-Raphson\n"
     ]
    },
    {
     "name": "stderr",
     "output_type": "stream",
     "text": [
      "<ipython-input-23-c88c3401e39a>:3: RuntimeWarning: invalid value encountered in log\n",
      "  fEE = lambda x: (x - 3)**5 * np.log(x)\n"
     ]
    },
    {
     "name": "stdout",
     "output_type": "stream",
     "text": [
      "4.93 ms ± 186 µs per loop (mean ± std. dev. of 7 runs, 100 loops each)\n",
      "      converged: True\n",
      "           flag: 'converged'\n",
      " function_calls: 168\n",
      "     iterations: 84\n",
      "           root: 1.0\n",
      "\n",
      "Secante\n",
      "6.02 ms ± 523 µs per loop (mean ± std. dev. of 7 runs, 100 loops each)\n",
      "      converged: True\n",
      "           flag: 'converged'\n",
      " function_calls: 106\n",
      "     iterations: 105\n",
      "           root: 2.9999999040707084\n"
     ]
    }
   ],
   "source": [
    "# Execução função letra (e)\n",
    "\n",
    "allFunctions(fEE, fEEDT, xEEa, xEEb)"
   ]
  },
  {
   "cell_type": "markdown",
   "metadata": {},
   "source": [
    "#### Letra (f)"
   ]
  },
  {
   "cell_type": "code",
   "execution_count": 25,
   "metadata": {},
   "outputs": [],
   "source": [
    "# função letra (f)\n",
    "\n",
    "fFF = lambda x: (x**10) - 1\n",
    "fFFDT = lambda x: 10*(x**9)\n",
    "arrFF = np.linspace(0.7, 1.3, 100)\n",
    "xFFa = 0.8\n",
    "xFFb = 1.2"
   ]
  },
  {
   "cell_type": "code",
   "execution_count": null,
   "metadata": {},
   "outputs": [
    {
     "name": "stdout",
     "output_type": "stream",
     "text": [
      "Bisseção\n",
      "14.2 µs ± 901 ns per loop (mean ± std. dev. of 7 runs, 100000 loops each)\n",
      "      converged: True\n",
      "           flag: 'converged'\n",
      " function_calls: 3\n",
      "     iterations: 1\n",
      "           root: 1.0\n",
      "\n",
      "Falsa posição\n",
      "1.87 ms ± 136 µs per loop (mean ± std. dev. of 7 runs, 1000 loops each)\n",
      "{'converged': False, 'flag': 'convergence error', 'iterations': 200, 'root': 0.9999999999999999}\n",
      "\n",
      "Ponto fixo\n",
      "1.67 ms ± 210 µs per loop (mean ± std. dev. of 7 runs, 1000 loops each)\n",
      "-0.835079042723559\n",
      "\n",
      "Newton-Raphson\n",
      "539 µs ± 52.5 µs per loop (mean ± std. dev. of 7 runs, 1000 loops each)\n",
      "      converged: True\n",
      "           flag: 'converged'\n",
      " function_calls: 20\n",
      "     iterations: 10\n",
      "           root: 1.0\n",
      "\n",
      "Secante\n"
     ]
    }
   ],
   "source": [
    "# Execução função letra (f)\n",
    "\n",
    "allFunctions(fFF, fFFDT, xFFa, xFFb)"
   ]
  },
  {
   "cell_type": "code",
   "execution_count": null,
   "metadata": {},
   "outputs": [],
   "source": []
  }
 ],
 "metadata": {
  "kernelspec": {
   "display_name": "Python 3",
   "language": "python",
   "name": "python3"
  },
  "language_info": {
   "codemirror_mode": {
    "name": "ipython",
    "version": 3
   },
   "file_extension": ".py",
   "mimetype": "text/x-python",
   "name": "python",
   "nbconvert_exporter": "python",
   "pygments_lexer": "ipython3",
   "version": "3.8.3"
  }
 },
 "nbformat": 4,
 "nbformat_minor": 4
}
