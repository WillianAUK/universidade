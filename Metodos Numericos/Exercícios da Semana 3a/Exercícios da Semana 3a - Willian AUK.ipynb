{
 "cells": [
  {
   "cell_type": "markdown",
   "metadata": {},
   "source": [
    "## Exercícios\n",
    "### Aluno: Willian Adriano Ullmann Klein"
   ]
  },
  {
   "cell_type": "markdown",
   "metadata": {},
   "source": [
    "#### \u0004 Exercício 1.1 O método “divisão e média”, um método antigo para estimação de raiz quadrada de um número positivo a, pode ser formulado como:\n",
    "#### xi+ 1 = (xi + a / xi) / 2\n",
    "#### Calcule o erro relativo da aproximação para as 10 primeiras iterações:"
   ]
  },
  {
   "cell_type": "code",
   "execution_count": 236,
   "metadata": {},
   "outputs": [],
   "source": [
    "def calculo(x, a, c):    \n",
    "    y = (x + (a/x))/2\n",
    "    e = abs((y-x)/y)\n",
    "    x_ = y\n",
    "    if (c == 10):\n",
    "        return print('O erro relativo é de: ', round((1-e)*100, 2), '%')\n",
    "    print('O erro relativo é de: ', round((1-e)*100, 2), '%')\n",
    "    c += 1\n",
    "    calculo(a, x_, c)\n",
    "        \n",
    "\n",
    "def divisao_e_media(a):\n",
    "    c = 1\n",
    "    if(a>0):\n",
    "        x = a/2\n",
    "        x_ = calculo(x, a, c)\n",
    "    else:\n",
    "        return 0"
   ]
  },
  {
   "cell_type": "code",
   "execution_count": 239,
   "metadata": {},
   "outputs": [
    {
     "name": "stdout",
     "output_type": "stream",
     "text": [
      "O erro relativo é de:  5.41 %\n",
      "O erro relativo é de:  0.36 %\n",
      "O erro relativo é de:  10.01 %\n",
      "O erro relativo é de:  0.75 %\n",
      "O erro relativo é de:  17.43 %\n",
      "O erro relativo é de:  1.61 %\n",
      "O erro relativo é de:  27.64 %\n",
      "O erro relativo é de:  3.65 %\n",
      "O erro relativo é de:  39.05 %\n",
      "O erro relativo é de:  8.53 %\n"
     ]
    }
   ],
   "source": [
    "n = 144\n",
    "raiz = divisao_e_media(n)\n",
    "raiz"
   ]
  },
  {
   "cell_type": "code",
   "execution_count": null,
   "metadata": {},
   "outputs": [],
   "source": []
  },
  {
   "cell_type": "markdown",
   "metadata": {},
   "source": [
    "#### \u0004 Exercício 1.2 Para computadores, o épsilon da máquina, ε, pode ser definido como o menor número que, adicionado a um, retorna um número maior que um, como definimos anteriormente. Usando o algoritmo abaixo, implemente um programa que calcula o épsilon da sua máquina. Compare com os resultados obtidos via numpy.\n",
    "Passo 1: Defina e = 1\n",
    "\n",
    "Passo 2: Se 1 + e for menor ou igual a 1, vá para o Passo 5; caso contrário, vá ao Passo 3\n",
    "\n",
    "Passo 3: e = e/2\n",
    "\n",
    "Passo 4: Retorne ao Passo 2\n",
    "\n",
    "Passo 5: e = 2 x e"
   ]
  },
  {
   "cell_type": "code",
   "execution_count": 175,
   "metadata": {},
   "outputs": [],
   "source": [
    "import numpy as np\n",
    "e = 1"
   ]
  },
  {
   "cell_type": "code",
   "execution_count": 182,
   "metadata": {},
   "outputs": [],
   "source": [
    "def Calcule_Epsilon(e):\n",
    "    i = e+1\n",
    "    if (i <= 1):\n",
    "        print(\"                      Epsilon calculado pela função: \", e*2)\n",
    "    else:\n",
    "        #print(e)\n",
    "        e = e/2\n",
    "        Calcule_Epsilon(e)"
   ]
  },
  {
   "cell_type": "code",
   "execution_count": 183,
   "metadata": {},
   "outputs": [
    {
     "name": "stdout",
     "output_type": "stream",
     "text": [
      "                      Epsilon calculado pela função:  2.220446049250313e-16\n",
      "    Epsilon calculado pela biblioteca numpy com sys:  2.220446049250313e-16\n",
      "Epsilon calculado pela biblioteca numpy com float16:  0.000977\n",
      "Epsilon calculado pela biblioteca numpy com float32:  1.1920929e-07\n",
      "Epsilon calculado pela biblioteca numpy com float64:  2.220446049250313e-16\n"
     ]
    }
   ],
   "source": [
    "Calcule_Epsilon(e)\n",
    "print(\"    Epsilon calculado pela biblioteca numpy com sys: \", sys.float_info.epsilon)\n",
    "print(\"Epsilon calculado pela biblioteca numpy com float16: \", np.finfo(dtype = np.float16).eps)\n",
    "print(\"Epsilon calculado pela biblioteca numpy com float32: \", np.finfo(dtype = np.float32).eps)\n",
    "print(\"Epsilon calculado pela biblioteca numpy com float64: \", np.finfo(dtype = np.float64).eps)"
   ]
  },
  {
   "cell_type": "markdown",
   "metadata": {},
   "source": []
  },
  {
   "cell_type": "markdown",
   "metadata": {},
   "source": [
    "#### \u0004 Exercício 1.3 Considere o seguinte processo iterativo:\n",
    "#### x¹ = 1 / 3\n",
    "#### x**(n+1) = 4x**(1) − 1, n = 1, 2, . . .\n",
    "#### Observe que x¹ = 1/3, x² = 4*(1/3)-1 = 1/3 , x³= 4* (1/3)-1 = 1/3 , e por aí vai, ou seja, temos uma sequência constante igual a 1/3.\n",
    "#### Implemente essa série iterativa, verificando se a convergência de fato ocorre e justifique o resultado obtido."
   ]
  },
  {
   "cell_type": "code",
   "execution_count": 204,
   "metadata": {},
   "outputs": [],
   "source": [
    "def convergencia(x, n):\n",
    "    \n",
    "    if (n < 200):\n",
    "        x = 4*(x)-1\n",
    "        print(\" r: \", x)\n",
    "        convergencia(x, n+1)"
   ]
  },
  {
   "cell_type": "code",
   "execution_count": 205,
   "metadata": {},
   "outputs": [
    {
     "name": "stdout",
     "output_type": "stream",
     "text": [
      " r:  0.33333333333333326\n",
      " r:  0.33333333333333304\n",
      " r:  0.33333333333333215\n",
      " r:  0.3333333333333286\n",
      " r:  0.3333333333333144\n",
      " r:  0.33333333333325754\n",
      " r:  0.33333333333303017\n",
      " r:  0.3333333333321207\n",
      " r:  0.3333333333284827\n",
      " r:  0.3333333333139308\n",
      " r:  0.3333333332557231\n",
      " r:  0.3333333330228925\n",
      " r:  0.3333333320915699\n",
      " r:  0.3333333283662796\n",
      " r:  0.3333333134651184\n",
      " r:  0.33333325386047363\n",
      " r:  0.33333301544189453\n",
      " r:  0.3333320617675781\n",
      " r:  0.3333282470703125\n",
      " r:  0.33331298828125\n",
      " r:  0.333251953125\n",
      " r:  0.3330078125\n",
      " r:  0.33203125\n",
      " r:  0.328125\n",
      " r:  0.3125\n",
      " r:  0.25\n",
      " r:  0.0\n",
      " r:  -1.0\n",
      " r:  -5.0\n",
      " r:  -21.0\n",
      " r:  -85.0\n",
      " r:  -341.0\n",
      " r:  -1365.0\n",
      " r:  -5461.0\n",
      " r:  -21845.0\n",
      " r:  -87381.0\n",
      " r:  -349525.0\n",
      " r:  -1398101.0\n",
      " r:  -5592405.0\n",
      " r:  -22369621.0\n",
      " r:  -89478485.0\n",
      " r:  -357913941.0\n",
      " r:  -1431655765.0\n",
      " r:  -5726623061.0\n",
      " r:  -22906492245.0\n",
      " r:  -91625968981.0\n",
      " r:  -366503875925.0\n",
      " r:  -1466015503701.0\n",
      " r:  -5864062014805.0\n",
      " r:  -23456248059221.0\n",
      " r:  -93824992236885.0\n",
      " r:  -375299968947541.0\n",
      " r:  -1501199875790165.0\n",
      " r:  -6004799503160661.0\n",
      " r:  -2.4019198012642644e+16\n",
      " r:  -9.607679205057058e+16\n",
      " r:  -3.843071682022823e+17\n",
      " r:  -1.5372286728091292e+18\n",
      " r:  -6.148914691236517e+18\n",
      " r:  -2.4595658764946067e+19\n",
      " r:  -9.838263505978427e+19\n",
      " r:  -3.935305402391371e+20\n",
      " r:  -1.5741221609565483e+21\n",
      " r:  -6.296488643826193e+21\n",
      " r:  -2.5185954575304773e+22\n",
      " r:  -1.007438183012191e+23\n",
      " r:  -4.029752732048764e+23\n",
      " r:  -1.6119010928195055e+24\n",
      " r:  -6.447604371278022e+24\n",
      " r:  -2.5790417485112088e+25\n",
      " r:  -1.0316166994044835e+26\n",
      " r:  -4.126466797617934e+26\n",
      " r:  -1.6505867190471736e+27\n",
      " r:  -6.602346876188694e+27\n",
      " r:  -2.6409387504754778e+28\n",
      " r:  -1.0563755001901911e+29\n",
      " r:  -4.2255020007607644e+29\n",
      " r:  -1.6902008003043058e+30\n",
      " r:  -6.760803201217223e+30\n",
      " r:  -2.7043212804868892e+31\n",
      " r:  -1.0817285121947557e+32\n",
      " r:  -4.326914048779023e+32\n",
      " r:  -1.730765619511609e+33\n",
      " r:  -6.923062478046436e+33\n",
      " r:  -2.7692249912185746e+34\n",
      " r:  -1.1076899964874298e+35\n",
      " r:  -4.430759985949719e+35\n",
      " r:  -1.7723039943798877e+36\n",
      " r:  -7.089215977519551e+36\n",
      " r:  -2.8356863910078204e+37\n",
      " r:  -1.1342745564031281e+38\n",
      " r:  -4.5370982256125126e+38\n",
      " r:  -1.814839290245005e+39\n",
      " r:  -7.25935716098002e+39\n",
      " r:  -2.903742864392008e+40\n",
      " r:  -1.1614971457568032e+41\n",
      " r:  -4.645988583027213e+41\n",
      " r:  -1.8583954332108852e+42\n",
      " r:  -7.433581732843541e+42\n",
      " r:  -2.9734326931374163e+43\n",
      " r:  -1.1893730772549665e+44\n",
      " r:  -4.757492309019866e+44\n",
      " r:  -1.9029969236079464e+45\n",
      " r:  -7.611987694431786e+45\n",
      " r:  -3.044795077772714e+46\n",
      " r:  -1.2179180311090857e+47\n",
      " r:  -4.871672124436343e+47\n",
      " r:  -1.948668849774537e+48\n",
      " r:  -7.794675399098148e+48\n",
      " r:  -3.1178701596392594e+49\n",
      " r:  -1.2471480638557038e+50\n",
      " r:  -4.988592255422815e+50\n",
      " r:  -1.995436902169126e+51\n",
      " r:  -7.981747608676504e+51\n",
      " r:  -3.1926990434706016e+52\n",
      " r:  -1.2770796173882406e+53\n",
      " r:  -5.108318469552963e+53\n",
      " r:  -2.043327387821185e+54\n",
      " r:  -8.17330955128474e+54\n",
      " r:  -3.269323820513896e+55\n",
      " r:  -1.3077295282055584e+56\n",
      " r:  -5.230918112822234e+56\n",
      " r:  -2.0923672451288935e+57\n",
      " r:  -8.369468980515574e+57\n",
      " r:  -3.3477875922062296e+58\n",
      " r:  -1.3391150368824918e+59\n",
      " r:  -5.356460147529967e+59\n",
      " r:  -2.142584059011987e+60\n",
      " r:  -8.570336236047948e+60\n",
      " r:  -3.428134494419179e+61\n",
      " r:  -1.3712537977676716e+62\n",
      " r:  -5.4850151910706865e+62\n",
      " r:  -2.1940060764282746e+63\n",
      " r:  -8.776024305713098e+63\n",
      " r:  -3.5104097222852394e+64\n",
      " r:  -1.4041638889140957e+65\n",
      " r:  -5.616655555656383e+65\n",
      " r:  -2.2466622222625532e+66\n",
      " r:  -8.986648889050213e+66\n",
      " r:  -3.594659555620085e+67\n",
      " r:  -1.437863822248034e+68\n",
      " r:  -5.751455288992136e+68\n",
      " r:  -2.3005821155968545e+69\n",
      " r:  -9.202328462387418e+69\n",
      " r:  -3.680931384954967e+70\n",
      " r:  -1.4723725539819869e+71\n",
      " r:  -5.889490215927947e+71\n",
      " r:  -2.355796086371179e+72\n",
      " r:  -9.423184345484716e+72\n",
      " r:  -3.7692737381938864e+73\n",
      " r:  -1.5077094952775545e+74\n",
      " r:  -6.030837981110218e+74\n",
      " r:  -2.4123351924440873e+75\n",
      " r:  -9.649340769776349e+75\n",
      " r:  -3.8597363079105396e+76\n",
      " r:  -1.5438945231642159e+77\n",
      " r:  -6.175578092656863e+77\n",
      " r:  -2.4702312370627454e+78\n",
      " r:  -9.880924948250981e+78\n",
      " r:  -3.9523699793003926e+79\n",
      " r:  -1.580947991720157e+80\n",
      " r:  -6.323791966880628e+80\n",
      " r:  -2.5295167867522513e+81\n",
      " r:  -1.0118067147009005e+82\n",
      " r:  -4.047226858803602e+82\n",
      " r:  -1.6188907435214408e+83\n",
      " r:  -6.475562974085763e+83\n",
      " r:  -2.5902251896343053e+84\n",
      " r:  -1.0360900758537221e+85\n",
      " r:  -4.1443603034148885e+85\n",
      " r:  -1.6577441213659554e+86\n",
      " r:  -6.630976485463822e+86\n",
      " r:  -2.6523905941855286e+87\n",
      " r:  -1.0609562376742114e+88\n",
      " r:  -4.243824950696846e+88\n",
      " r:  -1.6975299802787383e+89\n",
      " r:  -6.790119921114953e+89\n",
      " r:  -2.7160479684459813e+90\n",
      " r:  -1.0864191873783925e+91\n",
      " r:  -4.34567674951357e+91\n",
      " r:  -1.738270699805428e+92\n",
      " r:  -6.953082799221712e+92\n",
      " r:  -2.781233119688685e+93\n",
      " r:  -1.112493247875474e+94\n",
      " r:  -4.449972991501896e+94\n",
      " r:  -1.7799891966007583e+95\n",
      " r:  -7.119956786403033e+95\n",
      " r:  -2.8479827145612133e+96\n",
      " r:  -1.1391930858244853e+97\n",
      " r:  -4.556772343297941e+97\n",
      " r:  -1.8227089373191765e+98\n",
      " r:  -7.290835749276706e+98\n",
      " r:  -2.9163342997106824e+99\n",
      " r:  -1.166533719884273e+100\n",
      " r:  -4.666134879537092e+100\n",
      " r:  -1.8664539518148367e+101\n",
      " r:  -7.465815807259347e+101\n",
      " r:  -2.986326322903739e+102\n",
      " r:  -1.1945305291614955e+103\n"
     ]
    }
   ],
   "source": [
    "n = 1\n",
    "x = 1/3\n",
    "convergencia(x, n)"
   ]
  },
  {
   "cell_type": "markdown",
   "metadata": {},
   "source": [
    "Ela ocorre até certo ponto, porém devido as caracteríticas de linguagem e do computador, como 1/3 é dízima infinita periódica, um número com infinitas casas decimais, porém o computador não aceita infinito, então a fração a é arredondada em um valor que acadaba perdendo algarismos e no calculo da sequencia a cada interação, modifica cada vez mais o original 1/3 e assim torna a sequencia não mais convergente."
   ]
  },
  {
   "cell_type": "markdown",
   "metadata": {},
   "source": [
    "#### \u0004 Exercício 1.4 Considere as expressões:\n",
    "#### ->      (exp(1/µ)) / (1 + exp(1/µ))\n",
    "#### ->      1 / (exp(−1/µ) + 1 )\n",
    "#### com µ > 0. Verifique que elas são idênticas como funções reais. Teste no computador cada uma delas para µ = 0, 1, µ = 0, 01, µ = 0, 001 ou menor e responda: Qual dessas expressões é mais adequada quando µ é um número pequeno? Por quê?"
   ]
  },
  {
   "cell_type": "code",
   "execution_count": 64,
   "metadata": {},
   "outputs": [],
   "source": [
    "from math import *\n",
    "\n",
    "def funcao1(u):\n",
    "    return (e**(1/u))/(1+e**(1/u))\n",
    "\n",
    "def funcao2(x):\n",
    "    return 1/(e**(-1/x)+1)\n"
   ]
  },
  {
   "cell_type": "code",
   "execution_count": 65,
   "metadata": {},
   "outputs": [],
   "source": [
    "u1 = 0.1\n",
    "u2 = 0.01\n",
    "u3 = 0.001\n",
    "u4 = 0.0001\n",
    "u5 = 0.00001"
   ]
  },
  {
   "cell_type": "code",
   "execution_count": 66,
   "metadata": {},
   "outputs": [
    {
     "name": "stdout",
     "output_type": "stream",
     "text": [
      "Expressão 1 com µ = 0,1:  0.9999546021312976\n"
     ]
    }
   ],
   "source": [
    "print(\"Expressão 1 com µ = 0,1: \", funcao1(u1))"
   ]
  },
  {
   "cell_type": "code",
   "execution_count": 67,
   "metadata": {},
   "outputs": [
    {
     "name": "stdout",
     "output_type": "stream",
     "text": [
      "Expressão 2 com µ = 0,1:  0.9999546021312976\n"
     ]
    }
   ],
   "source": [
    "print(\"Expressão 2 com µ = 0,1: \", funcao2(u1))"
   ]
  },
  {
   "cell_type": "code",
   "execution_count": 68,
   "metadata": {},
   "outputs": [
    {
     "name": "stdout",
     "output_type": "stream",
     "text": [
      "Expressão 1 com µ = 0,01:  1.0\n"
     ]
    }
   ],
   "source": [
    "print(\"Expressão 1 com µ = 0,01: \", funcao1(u2))"
   ]
  },
  {
   "cell_type": "code",
   "execution_count": 69,
   "metadata": {},
   "outputs": [
    {
     "name": "stdout",
     "output_type": "stream",
     "text": [
      "Expressão 2 com µ = 0,01:  1.0\n"
     ]
    }
   ],
   "source": [
    "print(\"Expressão 2 com µ = 0,01: \", funcao2(u2))"
   ]
  },
  {
   "cell_type": "code",
   "execution_count": 70,
   "metadata": {},
   "outputs": [
    {
     "ename": "OverflowError",
     "evalue": "(34, 'Result too large')",
     "output_type": "error",
     "traceback": [
      "\u001b[1;31m---------------------------------------------------------------------------\u001b[0m",
      "\u001b[1;31mOverflowError\u001b[0m                             Traceback (most recent call last)",
      "\u001b[1;32m<ipython-input-70-0ed0d04d3ab7>\u001b[0m in \u001b[0;36m<module>\u001b[1;34m\u001b[0m\n\u001b[1;32m----> 1\u001b[1;33m \u001b[0mprint\u001b[0m\u001b[1;33m(\u001b[0m\u001b[1;34m\"Expressão 1 com µ = 0,001: \"\u001b[0m\u001b[1;33m,\u001b[0m \u001b[0mfuncao1\u001b[0m\u001b[1;33m(\u001b[0m\u001b[0mu3\u001b[0m\u001b[1;33m)\u001b[0m\u001b[1;33m)\u001b[0m\u001b[1;33m\u001b[0m\u001b[1;33m\u001b[0m\u001b[0m\n\u001b[0m",
      "\u001b[1;32m<ipython-input-64-c36e2b05c976>\u001b[0m in \u001b[0;36mfuncao1\u001b[1;34m(u)\u001b[0m\n\u001b[0;32m      2\u001b[0m \u001b[1;33m\u001b[0m\u001b[0m\n\u001b[0;32m      3\u001b[0m \u001b[1;32mdef\u001b[0m \u001b[0mfuncao1\u001b[0m\u001b[1;33m(\u001b[0m\u001b[0mu\u001b[0m\u001b[1;33m)\u001b[0m\u001b[1;33m:\u001b[0m\u001b[1;33m\u001b[0m\u001b[1;33m\u001b[0m\u001b[0m\n\u001b[1;32m----> 4\u001b[1;33m     \u001b[1;32mreturn\u001b[0m \u001b[1;33m(\u001b[0m\u001b[0me\u001b[0m\u001b[1;33m**\u001b[0m\u001b[1;33m(\u001b[0m\u001b[1;36m1\u001b[0m\u001b[1;33m/\u001b[0m\u001b[0mu\u001b[0m\u001b[1;33m)\u001b[0m\u001b[1;33m)\u001b[0m\u001b[1;33m/\u001b[0m\u001b[1;33m(\u001b[0m\u001b[1;36m1\u001b[0m\u001b[1;33m+\u001b[0m\u001b[0me\u001b[0m\u001b[1;33m**\u001b[0m\u001b[1;33m(\u001b[0m\u001b[1;36m1\u001b[0m\u001b[1;33m/\u001b[0m\u001b[0mu\u001b[0m\u001b[1;33m)\u001b[0m\u001b[1;33m)\u001b[0m\u001b[1;33m\u001b[0m\u001b[1;33m\u001b[0m\u001b[0m\n\u001b[0m\u001b[0;32m      5\u001b[0m \u001b[1;33m\u001b[0m\u001b[0m\n\u001b[0;32m      6\u001b[0m \u001b[1;32mdef\u001b[0m \u001b[0mfuncao2\u001b[0m\u001b[1;33m(\u001b[0m\u001b[0mx\u001b[0m\u001b[1;33m)\u001b[0m\u001b[1;33m:\u001b[0m\u001b[1;33m\u001b[0m\u001b[1;33m\u001b[0m\u001b[0m\n",
      "\u001b[1;31mOverflowError\u001b[0m: (34, 'Result too large')"
     ]
    }
   ],
   "source": [
    "print(\"Expressão 1 com µ = 0,001: \", funcao1(u3))"
   ]
  },
  {
   "cell_type": "code",
   "execution_count": 71,
   "metadata": {},
   "outputs": [
    {
     "name": "stdout",
     "output_type": "stream",
     "text": [
      "Expressão 2 com µ = 0,001:  1.0\n"
     ]
    }
   ],
   "source": [
    "print(\"Expressão 2 com µ = 0,001: \", funcao2(u3))"
   ]
  },
  {
   "cell_type": "code",
   "execution_count": 72,
   "metadata": {},
   "outputs": [
    {
     "name": "stdout",
     "output_type": "stream",
     "text": [
      "Expressão 2 com µ = 0,0001:  1.0\n"
     ]
    }
   ],
   "source": [
    "print(\"Expressão 2 com µ = 0,0001: \", funcao2(u4))"
   ]
  },
  {
   "cell_type": "code",
   "execution_count": 73,
   "metadata": {},
   "outputs": [
    {
     "name": "stdout",
     "output_type": "stream",
     "text": [
      "Expressão 2 com µ = 0,00001:  1.0\n"
     ]
    }
   ],
   "source": [
    "print(\"Expressão 2 com µ = 0,00001: \", funcao2(u5))"
   ]
  },
  {
   "cell_type": "markdown",
   "metadata": {},
   "source": [
    "A expressão mais adequada é a segunda, devido aceitar menores valores para µ, pois a primeira expressão quando calcula o exponencial com 1/µ asume um valor maior que o padrão, ocasionando um Overflow, enquanto na segunda expressão o valor de exp(−1/µ) tenderá a 0, resultando em uma conta de 1 / (0 + 1) "
   ]
  },
  {
   "cell_type": "markdown",
   "metadata": {},
   "source": [
    "#### \u0004 Exercício 1.5 Observe a seguinte identidade\n",
    "#### f(x) = ((1 + x) − 1) / x\n",
    "#### Não é muito difícil verificar, analiticamente, que, para qualquer valor de x, sempre teremos f(x) = 1. Faça um programa que calcule o valor da expressão para x = 10−12, x = 10−15 e x = 10−17. Compare os resultados com o resultado analítico e explique-os."
   ]
  },
  {
   "cell_type": "code",
   "execution_count": 58,
   "metadata": {},
   "outputs": [],
   "source": [
    "def calcula_identidade(x):\n",
    "    return ((1+x)-x)/x"
   ]
  },
  {
   "cell_type": "code",
   "execution_count": 96,
   "metadata": {},
   "outputs": [],
   "source": [
    "x = 1\n",
    "x1 = 10**(-12)\n",
    "x2 = 10**(-15)\n",
    "x3 = 10**(-17)"
   ]
  },
  {
   "cell_type": "code",
   "execution_count": 97,
   "metadata": {},
   "outputs": [
    {
     "name": "stdout",
     "output_type": "stream",
     "text": [
      "Resultado para x = 1:       1.0\n",
      "Resultado para x = 10e−12:  1000000000000.0\n",
      "Resultado para x = 10e−15:  999999999999999.9\n",
      "Resultado para x = 10e−17:  1e+17\n"
     ]
    }
   ],
   "source": [
    "print('Resultado para x = 1:      ', calcula_identidade(x))\n",
    "print('Resultado para x = 10e−12: ', calcula_identidade(x1))\n",
    "print('Resultado para x = 10e−15: ', calcula_identidade(x2))\n",
    "print('Resultado para x = 10e−17: ', calcula_identidade(x3))"
   ]
  },
  {
   "cell_type": "markdown",
   "metadata": {},
   "source": [
    "Como podemos notar, a linguagem aloca cada vez mais espaço para a variável, mesmo que teoricamente o resultado seja um simples inteiro 1. Outro coisa que pode ser notada é que para diferentes valores, a reposta pode variar e também a forma da variável. Como exemplefico no exemplo abaixo, existem por vezes uma variancia entre o resultado esperado 1, as vezes sendo um valor menor e as vezes um valor maior. Isso acontece devido ao cancelamento catastrófico, quando fazemos subtração com números proximos entre si, perdendo assim digitos de precisão, apesar da arredondamentos e truncamentos."
   ]
  },
  {
   "cell_type": "code",
   "execution_count": 98,
   "metadata": {},
   "outputs": [
    {
     "name": "stdout",
     "output_type": "stream",
     "text": [
      "Resultado para x =  1 :  1.0\n",
      "Resultado para x =  0.1 :  10.0\n",
      "Resultado para x =  0.01 :  100.0\n",
      "Resultado para x =  0.001 :  999.9999999999999\n",
      "Resultado para x =  0.0001 :  10000.0\n",
      "Resultado para x =  1e-05 :  99999.99999999999\n",
      "Resultado para x =  1e-06 :  999999.9999999999\n",
      "Resultado para x =  1e-07 :  10000000.0\n",
      "Resultado para x =  1e-08 :  99999999.99999999\n",
      "Resultado para x =  1e-09 :  999999999.9999999\n",
      "Resultado para x =  1e-10 :  10000000000.0\n",
      "Resultado para x =  1e-11 :  100000000000.0\n",
      "Resultado para x =  1e-12 :  1000000000000.0\n",
      "Resultado para x =  1e-13 :  9999999999999.998\n",
      "Resultado para x =  1e-14 :  100000000000000.0\n",
      "Resultado para x =  1e-15 :  999999999999999.9\n",
      "Resultado para x =  1e-16 :  1e+16\n",
      "Resultado para x =  1e-17 :  1e+17\n",
      "Resultado para x =  1e-18 :  9.999999999999999e+17\n",
      "Resultado para x =  1e-19 :  1e+19\n",
      "Resultado para x =  1e-20 :  1e+20\n",
      "Resultado para x =  1e-21 :  1.0000000000000001e+21\n",
      "Resultado para x =  1e-22 :  1e+22\n",
      "Resultado para x =  1e-23 :  1.0000000000000001e+23\n",
      "Resultado para x =  1e-24 :  1.0000000000000001e+24\n",
      "Resultado para x =  1e-25 :  9.999999999999999e+24\n",
      "Resultado para x =  1e-26 :  9.999999999999999e+25\n",
      "Resultado para x =  1e-27 :  1e+27\n",
      "Resultado para x =  1e-28 :  1e+28\n",
      "Resultado para x =  1e-29 :  1.0000000000000001e+29\n",
      "Resultado para x =  1e-30 :  9.999999999999999e+29\n",
      "Resultado para x =  1e-31 :  1e+31\n",
      "Resultado para x =  1e-32 :  9.999999999999999e+31\n",
      "Resultado para x =  1e-33 :  1e+33\n",
      "Resultado para x =  1e-34 :  1.0000000000000001e+34\n",
      "Resultado para x =  1e-35 :  1e+35\n",
      "Resultado para x =  1e-36 :  1e+36\n",
      "Resultado para x =  1e-37 :  1e+37\n",
      "Resultado para x =  1e-38 :  1e+38\n",
      "Resultado para x =  1e-39 :  1.0000000000000001e+39\n",
      "Resultado para x =  1e-40 :  1e+40\n",
      "Resultado para x =  1e-41 :  1e+41\n",
      "Resultado para x =  1e-42 :  9.999999999999999e+41\n",
      "Resultado para x =  1e-43 :  9.999999999999999e+42\n",
      "Resultado para x =  1e-44 :  1e+44\n",
      "Resultado para x =  1e-45 :  1.0000000000000001e+45\n",
      "Resultado para x =  1e-46 :  1e+46\n",
      "Resultado para x =  1e-47 :  1e+47\n",
      "Resultado para x =  1e-48 :  1e+48\n",
      "Resultado para x =  1e-49 :  1.0000000000000001e+49\n",
      "Resultado para x =  1e-50 :  1e+50\n",
      "Resultado para x =  1e-51 :  1e+51\n",
      "Resultado para x =  1e-52 :  1e+52\n",
      "Resultado para x =  1e-53 :  1e+53\n",
      "Resultado para x =  1e-54 :  9.999999999999999e+53\n",
      "Resultado para x =  1e-55 :  1e+55\n",
      "Resultado para x =  1e-56 :  9.999999999999999e+55\n",
      "Resultado para x =  1e-57 :  1e+57\n",
      "Resultado para x =  1e-58 :  1e+58\n",
      "Resultado para x =  1e-59 :  1e+59\n",
      "Resultado para x =  1e-60 :  1e+60\n",
      "Resultado para x =  1e-61 :  1e+61\n",
      "Resultado para x =  1e-62 :  9.999999999999999e+61\n",
      "Resultado para x =  1e-63 :  9.999999999999999e+62\n",
      "Resultado para x =  1e-64 :  1e+64\n",
      "Resultado para x =  1e-65 :  1.0000000000000001e+65\n",
      "Resultado para x =  1e-66 :  1e+66\n",
      "Resultado para x =  1e-67 :  1e+67\n",
      "Resultado para x =  1e-68 :  1e+68\n",
      "Resultado para x =  1e-69 :  1e+69\n",
      "Resultado para x =  1e-70 :  1e+70\n",
      "Resultado para x =  1e-71 :  1e+71\n",
      "Resultado para x =  1e-72 :  1e+72\n",
      "Resultado para x =  1e-73 :  1e+73\n",
      "Resultado para x =  1e-74 :  1.0000000000000001e+74\n",
      "Resultado para x =  1e-75 :  1.0000000000000001e+75\n",
      "Resultado para x =  1e-76 :  1e+76\n",
      "Resultado para x =  1e-77 :  1.0000000000000001e+77\n",
      "Resultado para x =  1e-78 :  1e+78\n",
      "Resultado para x =  1e-79 :  1e+79\n",
      "Resultado para x =  1e-80 :  1e+80\n",
      "Resultado para x =  1e-81 :  1.0000000000000001e+81\n",
      "Resultado para x =  1e-82 :  1e+82\n",
      "Resultado para x =  1e-83 :  1e+83\n",
      "Resultado para x =  1e-84 :  1e+84\n",
      "Resultado para x =  1e-85 :  1e+85\n",
      "Resultado para x =  1e-86 :  9.999999999999999e+85\n",
      "Resultado para x =  1e-87 :  1e+87\n",
      "Resultado para x =  1e-88 :  1.0000000000000001e+88\n",
      "Resultado para x =  1e-89 :  1e+89\n",
      "Resultado para x =  1e-90 :  1e+90\n",
      "Resultado para x =  1e-91 :  9.999999999999999e+90\n",
      "Resultado para x =  1e-92 :  1e+92\n",
      "Resultado para x =  1e-93 :  1e+93\n",
      "Resultado para x =  1e-94 :  1e+94\n",
      "Resultado para x =  1e-95 :  1e+95\n",
      "Resultado para x =  1e-96 :  1e+96\n",
      "Resultado para x =  1e-97 :  9.999999999999999e+96\n",
      "Resultado para x =  1e-98 :  1e+98\n",
      "Resultado para x =  1e-99 :  1e+99\n",
      "Resultado para x =  1e-100 :  1e+100\n",
      "Resultado para x =  1e-101 :  1e+101\n",
      "Resultado para x =  1e-102 :  1.0000000000000001e+102\n",
      "Resultado para x =  1e-103 :  1e+103\n",
      "Resultado para x =  1e-104 :  1e+104\n",
      "Resultado para x =  1e-105 :  1.0000000000000001e+105\n",
      "Resultado para x =  1e-106 :  1e+106\n",
      "Resultado para x =  1e-107 :  1e+107\n",
      "Resultado para x =  1e-108 :  9.999999999999999e+107\n",
      "Resultado para x =  1e-109 :  1e+109\n",
      "Resultado para x =  1e-110 :  1e+110\n",
      "Resultado para x =  1e-111 :  1e+111\n",
      "Resultado para x =  1e-112 :  1.0000000000000001e+112\n",
      "Resultado para x =  1e-113 :  1e+113\n",
      "Resultado para x =  1e-114 :  1e+114\n",
      "Resultado para x =  1e-115 :  1e+115\n",
      "Resultado para x =  1e-116 :  1e+116\n",
      "Resultado para x =  1e-117 :  9.999999999999999e+116\n",
      "Resultado para x =  1e-118 :  1e+118\n",
      "Resultado para x =  1e-119 :  1e+119\n",
      "Resultado para x =  1e-120 :  1e+120\n",
      "Resultado para x =  1e-121 :  1e+121\n",
      "Resultado para x =  1e-122 :  1e+122\n",
      "Resultado para x =  1e-123 :  1e+123\n",
      "Resultado para x =  1e-124 :  1.0000000000000001e+124\n",
      "Resultado para x =  1e-125 :  1e+125\n",
      "Resultado para x =  1e-126 :  1.0000000000000001e+126\n",
      "Resultado para x =  1e-127 :  1e+127\n"
     ]
    }
   ],
   "source": [
    "f = 128\n",
    "for i in range(f):\n",
    "    x = 10**(-i)\n",
    "    print('Resultado para x = ',x,': ',  calcula_identidade(x))"
   ]
  },
  {
   "cell_type": "code",
   "execution_count": null,
   "metadata": {},
   "outputs": [],
   "source": []
  }
 ],
 "metadata": {
  "kernelspec": {
   "display_name": "Python 3",
   "language": "python",
   "name": "python3"
  },
  "language_info": {
   "codemirror_mode": {
    "name": "ipython",
    "version": 3
   },
   "file_extension": ".py",
   "mimetype": "text/x-python",
   "name": "python",
   "nbconvert_exporter": "python",
   "pygments_lexer": "ipython3",
   "version": "3.8.3"
  }
 },
 "nbformat": 4,
 "nbformat_minor": 4
}
