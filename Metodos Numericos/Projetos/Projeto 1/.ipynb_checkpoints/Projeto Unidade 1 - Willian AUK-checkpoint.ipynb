{
 "cells": [
  {
   "cell_type": "markdown",
   "metadata": {},
   "source": [
    "### Importação das bibliotecas utilizadas"
   ]
  },
  {
   "cell_type": "code",
   "execution_count": 4,
   "metadata": {},
   "outputs": [],
   "source": [
    "import numpy as np\n",
    "from sympy.codegen.cfunctions import log10\n",
    "from scipy import stats\n",
    "import sympy as spy "
   ]
  },
  {
   "cell_type": "markdown",
   "metadata": {},
   "source": [
    "## Parte 1\n",
    "\n",
    "Nessa parte, a tarefa consiste em implementar a solução proposta no artigo Quadratically\n",
    "convergent algorithm for computing real root of non-linear transcendental equations, de autoria\n",
    "de Srinivasarao Thota e Vivek Kumar Srivastav, publicado na BMC Research Notes, em 2018.\n",
    "\n",
    "Nesse artigo, os autores apresentam um novo algoritmo para encontrar raízes de equações\n",
    "não lineares transcendentais, que, basicamente, usa uma implementação mista do método da\n",
    "falsa posição, para garantir convergência, e do método de Newton-Raphson, para garantir rapidez. O algoritmo proposto é testado com alguns exemplos, e comparados com os métodos\n",
    "individuais, além do método da bisseção. O algoritmo é apresentado e discutido na seção Main\n",
    "Text do documento.\n",
    "\n",
    "O algoritmo foi implementado a seguir e os testes foram feitos seguindo o artigo."
   ]
  },
  {
   "cell_type": "code",
   "execution_count": 5,
   "metadata": {},
   "outputs": [],
   "source": [
    "RTOL = 10e-10\n",
    "MAXITER = 200\n",
    "x = spy.Symbol(\"x\")"
   ]
  },
  {
   "cell_type": "code",
   "execution_count": 6,
   "metadata": {},
   "outputs": [],
   "source": [
    "def primeiro_cauculo(a, b, f):\n",
    "    return ((a*f(b)-b*f(a))/(2*f(b)-f(a)))"
   ]
  },
  {
   "cell_type": "code",
   "execution_count": 7,
   "metadata": {},
   "outputs": [],
   "source": [
    "def segundo_cauculo(a, f, fdt):\n",
    "    return ((a-(f(a)/fdt(a))))"
   ]
  },
  {
   "cell_type": "code",
   "execution_count": 8,
   "metadata": {},
   "outputs": [],
   "source": [
    "def articleDef(a, b, f):\n",
    "    fdt = f.diff(x)\n",
    "    fdt = spy.lambdify(x, fdt)\n",
    "    f = spy.lambdify(x, f)\n",
    "    erro = 1\n",
    "    res = float(\"inf\")\n",
    "    res_ant = 0\n",
    "    if (f(a) * f(b)) < 0:\n",
    "        i = 0\n",
    "        while erro > RTOL and i < MAXITER:\n",
    "            if fdt(a) == 0:\n",
    "                a, b = b, a\n",
    "            res = primeiro_cauculo(a, b, f) + segundo_cauculo(a, f, fdt)/2\n",
    "            if f(res) == 0:\n",
    "                break\n",
    "            else:\n",
    "                if (f(a) * f(res)) < 0 and np.abs(f(a)) > np.abs(f(res)): \n",
    "                    b, a = a, res\n",
    "                elif np.abs(f(res)) < np.abs(f(b)):\n",
    "                    a = res\n",
    "                else:\n",
    "                    a, b = b, res\n",
    "            erro = np.abs(a - b)/(np.abs(a) + np.abs(b)/2) # evitando divisao por 0\n",
    "            res_ant = res\n",
    "            i += 1\n",
    "    return res"
   ]
  },
  {
   "cell_type": "markdown",
   "metadata": {},
   "source": [
    "### Testes parte 1"
   ]
  },
  {
   "cell_type": "code",
   "execution_count": 9,
   "metadata": {},
   "outputs": [
    {
     "name": "stdout",
     "output_type": "stream",
     "text": [
      "A Raiz da Função x*exp(x) - cos(x)\n",
      "no intervalo [0, 1]\n",
      "é: 0.5177573636824583\n",
      "\n"
     ]
    }
   ],
   "source": [
    "fA = x*(spy.E**x) - spy.cos(x)\n",
    "print(f\"A Raiz da Função {fA}\\nno intervalo [0, 1]\\né: {articleDef(0, 1, fA)}\\n\")\n"
   ]
  },
  {
   "cell_type": "code",
   "execution_count": 10,
   "metadata": {},
   "outputs": [
    {
     "name": "stdout",
     "output_type": "stream",
     "text": [
      "A Raiz da Função x*log10(x) - 1.2\n",
      "no intervalo [1, 3]\n",
      "é: 2.740646095973693\n",
      "\n"
     ]
    }
   ],
   "source": [
    "fB = x*log10(x) - 1.2\n",
    "print(f\"A Raiz da Função {fB}\\nno intervalo [1, 3]\\né: {articleDef(1, 3, fB)}\\n\")"
   ]
  },
  {
   "cell_type": "code",
   "execution_count": 11,
   "metadata": {},
   "outputs": [
    {
     "name": "stdout",
     "output_type": "stream",
     "text": [
      "A Raiz da Função 1 - x**2\n",
      "no intervalo [0, 2]\n",
      "é: 1.0\n",
      "\n"
     ]
    }
   ],
   "source": [
    "fC = 1 - x**2\n",
    "print(f\"A Raiz da Função {fC}\\nno intervalo [0, 2]\\né: {articleDef(0, 2, fC)}\\n\")"
   ]
  },
  {
   "cell_type": "markdown",
   "metadata": {},
   "source": [
    "## Parte 2\n",
    "\n",
    "A seguir a implementação completa de um problema de engenharia econômica,\n",
    "relacionado ao cálculo do preço justo de um contrato, conhecido como Opção de Compra Européia\n",
    "(European call option). O exemplo traz ele implementado, inclusive com a modelagem e uso de\n",
    "uma implementação usando o método de Newton-Raphson. Abaixo é implementado seguindo o exemplo e implementando a função proposta no artigo da parte 1.\n",
    "\n"
   ]
  },
  {
   "cell_type": "code",
   "execution_count": 12,
   "metadata": {},
   "outputs": [],
   "source": [
    "S = 7.01      # preço stock\n",
    "K = 7.5       # preço de exercício\n",
    "r = 0.0225    # taxa de risco\n",
    "T = 6/252     # expiry"
   ]
  },
  {
   "cell_type": "code",
   "execution_count": 13,
   "metadata": {},
   "outputs": [],
   "source": [
    "# Define stdnormal como a variável aleatória normal padrão.\n",
    "\n",
    "stdnormal = stats.norm(loc=0, scale=1)"
   ]
  },
  {
   "cell_type": "code",
   "execution_count": 14,
   "metadata": {},
   "outputs": [],
   "source": [
    "# A função membro cdf (x) de stdnormal calcula a função de distribuição normal padrão Em x.\n",
    "# Escrevemos uma função phi (x) com base nesta função-membro, correspondendo à nossa notação φ (x) para\n",
    "# A função de distribuição.\n",
    "\n",
    "phi = lambda x: stdnormal.cdf(x)"
   ]
  },
  {
   "cell_type": "code",
   "execution_count": 16,
   "metadata": {},
   "outputs": [],
   "source": [
    "# definimos C(σ) e C'(σ). No código Python, substituímos σ por x.\n",
    "\n",
    "def c(x):\n",
    "    d1 = (np.log(S/K)+(r+x**2/2)*T) / (x*np.sqrt(T))\n",
    "    d2 = d1 - x*np.sqrt(T)\n",
    "    \n",
    "    return S*phi(d1) - K*np.exp(-r*T)*phi(d2)"
   ]
  },
  {
   "cell_type": "code",
   "execution_count": 17,
   "metadata": {},
   "outputs": [],
   "source": [
    "# A função cprime(x) é baseada na equação 2.10 do material base. \n",
    "\n",
    "def cprime(x):\n",
    "    d1 = (np.log(S/K)+(r+x**2/2)*T) / (x*np.sqrt(T))\n",
    "    d2 = d1 - x*np.sqrt(T)\n",
    "    A = (np.log(S/K)+(r+x**2/2)*T) / (np.sqrt(T)*x**2)\n",
    "    \n",
    "    return S*(np.exp(-d1**2/2) / np.sqrt(2*np.pi)) * (np.sqrt(T)-A) \\\n",
    "        + K*np.exp(-(r*T+d2**2/2)) * A / np.sqrt(2*np.pi)"
   ]
  },
  {
   "cell_type": "markdown",
   "metadata": {},
   "source": [
    " Em seguida, carregamos a função newton e a executamos para encontrar a volatilidade implícita que acaba sendo sendo 62%.\n",
    "\n",
    " [7] newton(lambda x: c(x)-0.1, cprime, 1, 1e-4, 60)\n",
    "\n",
    "p É 0.6231138483741047 e o número da iteração é 3"
   ]
  },
  {
   "cell_type": "code",
   "execution_count": 18,
   "metadata": {},
   "outputs": [],
   "source": [
    "# Implementando o algoritmos da parte 1 agora adaptado para fazer o trabalho correspondente da parte 2.\n",
    "\n",
    "def articleDef_pt2(f, fdt, a, b, it):\n",
    "    global RTOL, MAXITER, x\n",
    "    erro = 1\n",
    "    res = float(\"inf\")\n",
    "    res_ant = 0\n",
    "    if (f(a) * f(b)) < 0:\n",
    "        i = 0\n",
    "        while erro > RTOL and i < it:\n",
    "            if fdt(a) == 0:\n",
    "                a, b = b, a\n",
    "            res = primeiro_cauculo(a, b, f) + segundo_cauculo(a, f, fdt)/2\n",
    "            if f(res) == 0:\n",
    "                break\n",
    "            else:\n",
    "                if (f(a) * f(res)) < 0 and np.abs(f(a)) > np.abs(f(res)): \n",
    "                    b, a = a, res\n",
    "                elif np.abs(f(res)) < np.abs(f(b)):\n",
    "                    a = res\n",
    "                else:\n",
    "                    a, b = b, res\n",
    "            erro = np.abs(a - b)/(np.abs(a) + np.abs(b)/2) # evitando divisao por 0\n",
    "            res_ant = res\n",
    "            i += 1\n",
    "    return res"
   ]
  },
  {
   "cell_type": "code",
   "execution_count": 23,
   "metadata": {},
   "outputs": [
    {
     "name": "stdout",
     "output_type": "stream",
     "text": [
      "--> p = 0.6231156235631661 ou 62.31%\n"
     ]
    }
   ],
   "source": [
    "p = articleDef_pt2(lambda x: c(x)-0.1, cprime, 1, 1e-4, 60)\n",
    "print(f\"--> p = {p} ou {round(p*100, 2)}%\")\n"
   ]
  },
  {
   "cell_type": "markdown",
   "metadata": {},
   "source": [
    "## Conclusões\n",
    "\n",
    "\n",
    "O BSM é utilizado para calcular os riscos de se investir em uma European call option avaliando preço de ações, sua volatilidade e melhores dias para a negociação das ações.\n",
    "\n",
    "Apesar de o algoritmo newton funcionar fazendo a conversão dos dados ele acaba por não ser a melhor opção já que existem algoritmos que se saem melhores, como o implementado seguindo a proposta. Dessa forma, otimizam-se os calculos para que seja identificada a probabilidade de prejuízo ou lucro de uma European call Option."
   ]
  },
  {
   "cell_type": "code",
   "execution_count": null,
   "metadata": {},
   "outputs": [],
   "source": []
  }
 ],
 "metadata": {
  "kernelspec": {
   "display_name": "Python 3",
   "language": "python",
   "name": "python3"
  },
  "language_info": {
   "codemirror_mode": {
    "name": "ipython",
    "version": 3
   },
   "file_extension": ".py",
   "mimetype": "text/x-python",
   "name": "python",
   "nbconvert_exporter": "python",
   "pygments_lexer": "ipython3",
   "version": "3.8.3"
  }
 },
 "nbformat": 4,
 "nbformat_minor": 4
}
