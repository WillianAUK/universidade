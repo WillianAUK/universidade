{
 "cells": [
  {
   "cell_type": "markdown",
   "metadata": {},
   "source": [
    "# <center>__MÉTODOS NUMÉRICOS__</center>\n",
    "## <center>__PROJETO DA UNIDADE 2__</center>\n",
    "\n",
    "### <center>__ALUNO: Willian Adriano Ullmann Klein__</center>"
   ]
  },
  {
   "cell_type": "markdown",
   "metadata": {},
   "source": [
    "<div class=\"alert alert-block alert-info\">\n",
    "1. INTRODUÇÃO\n",
    "</div>"
   ]
  },
  {
   "cell_type": "markdown",
   "metadata": {},
   "source": [
    "Quando vemos uma relação em um diagrama de dispersão, podemos usar uma reta para resumir essa relação nos dados. Também podemos usar essa reta para fazer previsões a partir dos dados. Este processo é chamado de regressão linear.\n",
    "\n",
    "Modelos de regressão linear são frequentemente ajustados usando a abordagem dos mínimos quadrados, mas que também pode ser montada de outras maneiras, tal como minimizando a \"falta de ajuste\" em alguma outra norma (com menos desvios absolutos de regressão), ou através da minimização de uma penalização da versão dos mínimos quadrados. Por outro lado, a abordagem de mínimos quadrados pode ser utilizado para ajustar a modelos que não são modelos lineares. Assim, embora os termos \"mínimos quadrados\" e \"modelo linear\" estejam intimamente ligados, eles não são sinônimos.\n",
    "\n",
    "#### Expressão\n",
    "\n",
    "A Regressão Linear pode ser definida pela expressão abaixo:\n",
    "\n",
    "$y = b0 + b1.X$\n",
    "\n",
    "Onde:\n",
    "\n",
    "$y$: é a variável dependente, ou seja, o valor previsto.\n",
    "\n",
    "$X$: é a variável independente, ou seja, a variável preditora.\n",
    "\n",
    "$b0$: é o coeficiente que intercepta ou que corta o eixo y.\n",
    "\n",
    "$b1$: é o coeficiente que define a inclinação da reta.\n",
    "\n",
    "O objetivo é encontrar as melhores estimativas para os coeficientes, que minimizam os erros na previsão de y a partir de X.\n",
    "Podemos estimar b1 como:\n",
    "\n",
    "$b1 = soma ((Xi - médio (x)) * (yi - médio (y))) / soma ((xi - médio (x)) ²)$\n",
    "\n",
    "Onde:\n",
    "\n",
    "$média()$: é o valor médio da variável do conjunto de dados.\n",
    "\n",
    "$Xi$ e $yi$: se referem ao fato de que precisamos repetir esses cálculos em todos os valores em nosso conjunto de dados e i se refere ao i’ésimo valor de $x$ ou $y$. E $b0$ podemos estimar como:\n",
    "\n",
    "$b0 = média(y) - b1 * média(x)$\n",
    "\n",
    "#### Erro Padrão\n",
    "\n",
    "O erro padrão sobre a linha de regressão é uma medida do valor médio que a equação superestimou ou subestimou (Fig4), assim podemos analisar o coeficiente de determinação (R²), quanto maior esse valor, menor o erro padrão, com isso as previsões serão mais precisas provavelmente.\n",
    "\n",
    "Podemos acrescentar o erro padrão à equação e, de uma forma geral, ficaria da seguinte forma:\n",
    "\n",
    "$y = b0 + b1.X1 + e$\n",
    "\n",
    "Onde:\n",
    "\n",
    "$e$: é o erro padrão.\n",
    "\n",
    "#### Coeficiente de Determinação R²\n",
    "O valor do R² ou R-squared é uma medida estatística que nos mostra o quão próximos os dados estão ajustados à linha de regressão. É um valor de 0 à 1 que, quanto mais próximo de 1, melhor o ajuste e menor o erro associado.\n",
    "\n",
    "O R² nos mostra a porcentagem da variação da variável resposta que é explicada por um modelo linear, podendo ser descrito por:\n",
    "\n",
    "$R² = Variação explicada / Variação total$\n",
    "\n",
    "- $0_% $ indica que o modelo não explica nada da variabilidade dos dados de resposta ao redor de sua média.\n",
    "\n",
    "- $100_% $ indica que o modelo explica toda a variabilidade dos dados de resposta ao redor de sua média."
   ]
  },
  {
   "cell_type": "markdown",
   "metadata": {},
   "source": [
    "Bibliotecas necessárias para o desenvolvimento e implementação são importadas abaixo."
   ]
  },
  {
   "cell_type": "code",
   "execution_count": null,
   "metadata": {},
   "outputs": [],
   "source": [
    "from sklearn import datasets, linear_model, metrics\n",
    "from sklearn.model_selection import train_test_split\n",
    "from sklearn.preprocessing import PolynomialFeatures\n",
    "from sklearn.linear_model import LinearRegression \n",
    "from sklearn.metrics import mean_squared_error, r2_score\n",
    "import math, scipy, numpy as np\n",
    "import matplotlib.pyplot as plt\n",
    "import pandas as pd"
   ]
  },
  {
   "cell_type": "code",
   "execution_count": null,
   "metadata": {},
   "outputs": [],
   "source": []
  },
  {
   "cell_type": "markdown",
   "metadata": {},
   "source": [
    "<div class=\"alert alert-block alert-info\">\n",
    "2. DESCRIÇÃO DO PROBLEMA\n",
    "</div>"
   ]
  },
  {
   "cell_type": "markdown",
   "metadata": {},
   "source": [
    "O conjunto de dados que serão utilizados para a reprodução do método de regressão linear em python, são disponibilizados em [[1]](https://scikit-learn.org/stable/datasets/toy_dataset.html#diabetes-dataset). Os dados são referentes ao estudo de  Bradley Efron, Trevor Hastie, Iain Johnstone and Robert Tibshirani (2004) “Least Angle Regression,” Annals of Statistics (with discussion), 407-499. \n",
    "\n",
    "Abaixo o conjunto de dados:"
   ]
  },
  {
   "cell_type": "code",
   "execution_count": null,
   "metadata": {},
   "outputs": [],
   "source": [
    "# dataset \n",
    "\n",
    "data = datasets.load_diabetes()\n",
    "data"
   ]
  },
  {
   "cell_type": "code",
   "execution_count": null,
   "metadata": {},
   "outputs": [],
   "source": [
    "# Criando um data frame com os dados do estudo:\n",
    "\n",
    "df = pd.DataFrame(data['data'])\n",
    "df"
   ]
  },
  {
   "cell_type": "code",
   "execution_count": null,
   "metadata": {},
   "outputs": [],
   "source": [
    "# Atributos do DF\n",
    "\n",
    "feature_names = data['feature_names']\n",
    "feature_names"
   ]
  },
  {
   "cell_type": "code",
   "execution_count": null,
   "metadata": {},
   "outputs": [],
   "source": [
    "# Medida quantitativa da progressão da doença um ano após a linha de base\n",
    "\n",
    "df_target = pd.DataFrame(data['target'])\n",
    "df_target"
   ]
  },
  {
   "cell_type": "markdown",
   "metadata": {},
   "source": [
    "Portanto, temos um conjunto de dados com 442 instâncias e 10 colunas de atributos mais uma coluna do target. Os atributos considerados são:\n",
    "\n",
    "- age age in years\n",
    "\n",
    "- sex\n",
    "\n",
    "- bmi body mass index\n",
    "\n",
    "- bp average blood pressure\n",
    "\n",
    "- s1 tc, total serum cholesterol\n",
    "\n",
    "- s2 ldl, low-density lipoproteins\n",
    "\n",
    "- s3 hdl, high-density lipoproteins\n",
    "\n",
    "- s4 tch, total cholesterol / HDL\n",
    "\n",
    "- s5 ltg, possibly log of serum triglycerides level\n",
    "\n",
    "- s6 glu, blood sugar level\n",
    "\n",
    "Cada uma dessas 10 variáveis ​​de recursos foram centradas na média e escalonadas pelo desvio padrão vezes n_samples (ou seja, a soma dos quadrados de cada coluna totaliza 1).\n",
    "\n",
    "Enquanto a coluna 11(target) é uma medida quantitativa da progressão da doença um ano após a linha de base.\n"
   ]
  },
  {
   "cell_type": "code",
   "execution_count": null,
   "metadata": {},
   "outputs": [],
   "source": []
  },
  {
   "cell_type": "markdown",
   "metadata": {},
   "source": [
    "<div class=\"alert alert-block alert-info\">\n",
    "3. MÉTODOS APLICADOS À SOLUÇÃO\n",
    "</div>"
   ]
  },
  {
   "cell_type": "markdown",
   "metadata": {},
   "source": [
    "A seguir será realizado um exemplo básico de regreção linear em um conjunto de dados limitado, somente para demontração."
   ]
  },
  {
   "cell_type": "code",
   "execution_count": null,
   "metadata": {},
   "outputs": [],
   "source": [
    "# variável preditora\n",
    "X = np.array([1.47, 1.5, 1.52, 1.55, 1.57, 1.63, 1.65, 1.68, 1.7, 1.73, 1.78, 1.8, 1.83]).reshape(-1, 1)\n",
    "# variável alvo\n",
    "y = np.array ([52.21, 53.12, 57.2, 58.6, 58.57, 59.93, 62, 63.11, 65.4, 66.28, 68.1, 72.19, 80.24])"
   ]
  },
  {
   "cell_type": "code",
   "execution_count": null,
   "metadata": {},
   "outputs": [],
   "source": [
    "# instanciando do modelo\n",
    "\n",
    "model = LinearRegression()"
   ]
  },
  {
   "cell_type": "code",
   "execution_count": null,
   "metadata": {},
   "outputs": [],
   "source": [
    "# treinando o modelo\n",
    "\n",
    "model.fit(X, y)"
   ]
  },
  {
   "cell_type": "code",
   "execution_count": null,
   "metadata": {},
   "outputs": [],
   "source": [
    "# imprimindo o coeficiente que corta o eixo y:\n",
    "\n",
    "intercept = model.intercept_\n",
    "print(f'Coeficiente de interceptação: {intercept:.4f}')"
   ]
  },
  {
   "cell_type": "code",
   "execution_count": null,
   "metadata": {},
   "outputs": [],
   "source": [
    "# imprimindo o coeficiente de inclinação da reta\n",
    "\n",
    "slope = model.coef_\n",
    "print(f'Coeficiente de inclinação:    {slope.round(4)}')"
   ]
  },
  {
   "cell_type": "code",
   "execution_count": null,
   "metadata": {},
   "outputs": [],
   "source": [
    "# Criando a equação:\n",
    "\n",
    "print(f\"y = {intercept} + {slope} * X\")"
   ]
  },
  {
   "cell_type": "code",
   "execution_count": null,
   "metadata": {},
   "outputs": [],
   "source": [
    "# criando a equação e prevendo nos dados de X\n",
    "\n",
    "y_pred_eq = intercept + slope * X\n",
    "print(y_pred_eq.tolist())"
   ]
  },
  {
   "cell_type": "code",
   "execution_count": null,
   "metadata": {},
   "outputs": [],
   "source": [
    "# prevendo com o modelo nos dados de X\n",
    "\n",
    "y_pred_model = model.predict(X)\n",
    "print(y_pred_model)"
   ]
  },
  {
   "cell_type": "markdown",
   "metadata": {},
   "source": [
    "- Então agora vamos plotar os dados num gráfico junto a linha de regressão gerada:"
   ]
  },
  {
   "cell_type": "code",
   "execution_count": null,
   "metadata": {},
   "outputs": [],
   "source": [
    "# definindo a área de plotagem e grafico\n",
    "plt.figure(figsize=(8,6))\n",
    "plt.scatter (X, y, color = 'blue') \n",
    "plt.plot (X, model.predict (X), color = 'red', linewidth = 2)\n",
    "\n",
    "# definindo x e y\n",
    "plt.xticks(np.arange(1.40, 1.95, 0.1))\n",
    "plt.yticks([50, 60, 70, 80])\n",
    "\n",
    "# inserindo os rótulos dos eixos\n",
    "plt.xlabel(\"Altura (m)\")\n",
    "plt.ylabel(\"Peso (kg)\")\n",
    "\n",
    "# inserindo o título do gráfico\n",
    "plt.title(\"Demonstração de Regressão Linear\", fontweight=\"bold\", size=15)\n",
    "\n",
    "# plotando o gráfico\n",
    "plt.show()"
   ]
  },
  {
   "cell_type": "markdown",
   "metadata": {},
   "source": [
    "A Regressão Linear é um modelo muito utilizado para prever a relação entre duas ou mais variáveis. Neste exemplo o objetivo foi demonstrar como implementar o modelo em python de uma forma bem simples."
   ]
  },
  {
   "cell_type": "markdown",
   "metadata": {},
   "source": [
    "<div class=\"alert alert-block alert-info\">\n",
    "4. IMPLEMENTAÇÃO\n",
    "</div>"
   ]
  },
  {
   "cell_type": "markdown",
   "metadata": {},
   "source": [
    "Aqui você irá  mostrar sua implementação para o problema considerado, explicando o que foi feito em cada passo e cada saída de cada trecho de código, sempre relacionando com a descrição do método mostrada acima."
   ]
  },
  {
   "cell_type": "markdown",
   "metadata": {},
   "source": [
    "- Carregando o conjunto de dados de diabetes"
   ]
  },
  {
   "cell_type": "code",
   "execution_count": null,
   "metadata": {},
   "outputs": [],
   "source": [
    "data = datasets.load_diabetes()"
   ]
  },
  {
   "cell_type": "markdown",
   "metadata": {},
   "source": [
    "- Usando apenas um recurso"
   ]
  },
  {
   "cell_type": "code",
   "execution_count": null,
   "metadata": {},
   "outputs": [],
   "source": [
    "diabetes_X = diabetes.data[:, np.newaxis, 8]\n",
    "diabetes_X"
   ]
  },
  {
   "cell_type": "markdown",
   "metadata": {},
   "source": [
    "- Dividindo os dados em conjuntos de treinamento / teste"
   ]
  },
  {
   "cell_type": "code",
   "execution_count": null,
   "metadata": {},
   "outputs": [],
   "source": [
    "# conjunto de treino\n",
    "diabetes_X_train = diabetes_X[:-20]\n",
    "diabetes_X_train"
   ]
  },
  {
   "cell_type": "code",
   "execution_count": null,
   "metadata": {},
   "outputs": [],
   "source": [
    "# conjunto de teste\n",
    "diabetes_X_test = diabetes_X[-20:] \n",
    "diabetes_X_test"
   ]
  },
  {
   "cell_type": "markdown",
   "metadata": {},
   "source": [
    "- Criando o objeto de regressão linear"
   ]
  },
  {
   "cell_type": "code",
   "execution_count": null,
   "metadata": {},
   "outputs": [],
   "source": [
    "regr = linear_model.LinearRegression()"
   ]
  },
  {
   "cell_type": "markdown",
   "metadata": {},
   "source": [
    "- Treinando o modelo usando os conjuntos de treinamento"
   ]
  },
  {
   "cell_type": "code",
   "execution_count": null,
   "metadata": {},
   "outputs": [],
   "source": [
    "regr.fit(diabetes_X_train, diabetes_y_train)"
   ]
  },
  {
   "cell_type": "markdown",
   "metadata": {},
   "source": [
    "- Fazendo previsões usando o conjunto de teste"
   ]
  },
  {
   "cell_type": "code",
   "execution_count": null,
   "metadata": {},
   "outputs": [],
   "source": [
    "diabetes_y_pred = regr.predict(diabetes_X_test)\n",
    "print(diabetes_y_pred)"
   ]
  },
  {
   "cell_type": "markdown",
   "metadata": {},
   "source": [
    "- Os coeficientes"
   ]
  },
  {
   "cell_type": "code",
   "execution_count": null,
   "metadata": {},
   "outputs": [],
   "source": [
    "print('Coeficientes: ', regr.coef_, \"\\n\")"
   ]
  },
  {
   "cell_type": "markdown",
   "metadata": {},
   "source": [
    "- O erro quadrático médio"
   ]
  },
  {
   "cell_type": "code",
   "execution_count": null,
   "metadata": {},
   "outputs": [],
   "source": [
    "print(\"Erro quadrático médio: %.2f\"\n",
    "      % mean_squared_error(diabetes_y_test, diabetes_y_pred))"
   ]
  },
  {
   "cell_type": "markdown",
   "metadata": {},
   "source": [
    "- Pontuação de variância explicada: 1 é a previsão perfeita"
   ]
  },
  {
   "cell_type": "code",
   "execution_count": null,
   "metadata": {},
   "outputs": [],
   "source": [
    "print('Pontuação de variância : %.2f' % r2_score(diabetes_y_test, diabetes_y_pred))"
   ]
  },
  {
   "cell_type": "code",
   "execution_count": null,
   "metadata": {},
   "outputs": [],
   "source": [
    "plt.scatter(diabetes_X_test, diabetes_y_test,  color='black')\n",
    "plt.plot(diabetes_X_test, diabetes_y_pred, color='red', linewidth=3)\n",
    "\n",
    "plt.xticks(())\n",
    "plt.yticks(())\n",
    "\n",
    "plt.show()"
   ]
  },
  {
   "cell_type": "markdown",
   "metadata": {},
   "source": [
    "#### Agora fazendo uso de várias varáveis:\n",
    "- Primeiro passo para simplificar a visualização dos dados atuais, colocar os dados em um dataframe:"
   ]
  },
  {
   "cell_type": "code",
   "execution_count": null,
   "metadata": {},
   "outputs": [],
   "source": [
    "df = pd.DataFrame(data['data'])\n",
    "df"
   ]
  },
  {
   "cell_type": "markdown",
   "metadata": {},
   "source": [
    "- Queremos apenas variáveis/colunas 0, 1, 3, 4, 7 e 8 (pode ser qualquer coluna para usar)"
   ]
  },
  {
   "cell_type": "code",
   "execution_count": null,
   "metadata": {},
   "outputs": [],
   "source": [
    "# variáveeis preditórias\n",
    "\n",
    "predictor_variables = [0,1,3,4,7,8]\n",
    "X = df[predictor_variables]\n",
    "X"
   ]
  },
  {
   "cell_type": "code",
   "execution_count": null,
   "metadata": {},
   "outputs": [],
   "source": [
    "# variável alvo\n",
    "\n",
    "y = data['target']\n",
    "print(y)"
   ]
  },
  {
   "cell_type": "markdown",
   "metadata": {},
   "source": [
    "- Dividindo nossos dados em 70% de treinamento (para ajuste) e 30% de teste (para previsão)"
   ]
  },
  {
   "cell_type": "code",
   "execution_count": null,
   "metadata": {},
   "outputs": [],
   "source": [
    "X_train, x_test, Y_train, y_test = train_test_split(X, y, train_size=.7)"
   ]
  },
  {
   "cell_type": "markdown",
   "metadata": {},
   "source": [
    "- Ajustaando o modelo"
   ]
  },
  {
   "cell_type": "code",
   "execution_count": null,
   "metadata": {},
   "outputs": [],
   "source": [
    "model = regr.fit(X_train, Y_train)"
   ]
  },
  {
   "cell_type": "markdown",
   "metadata": {},
   "source": [
    "- Verificando a precisão/variação"
   ]
  },
  {
   "cell_type": "code",
   "execution_count": null,
   "metadata": {},
   "outputs": [],
   "source": [
    "score_r2 = model.score(x_test, y_test)"
   ]
  },
  {
   "cell_type": "markdown",
   "metadata": {},
   "source": [
    "- valores previstos a partir dos dados de teste"
   ]
  },
  {
   "cell_type": "code",
   "execution_count": null,
   "metadata": {},
   "outputs": [],
   "source": [
    "predictions = model.predict(x_test)\n",
    "print(predictions)"
   ]
  },
  {
   "cell_type": "markdown",
   "metadata": {},
   "source": [
    "- Para olhar os dados de teste com variáveis independentes (preditores) vamos configurar um dataframe de resumo para capturar a saída de nossas previsões de modelo para nossos dados de teste"
   ]
  },
  {
   "cell_type": "code",
   "execution_count": null,
   "metadata": {},
   "outputs": [],
   "source": [
    "summary_df = pd.DataFrame(x_test)\n",
    "summary_df['alvo'] = y_test\n",
    "summary_df = summary_df.rename(columns={0:\"A\", 1:\"B\", 3:\"C\", 4:\"D\", 7:\"E\", 8:\"F\"})\n",
    "summary_df['alvo'] = y_test"
   ]
  },
  {
   "cell_type": "markdown",
   "metadata": {},
   "source": [
    "- Capturando nossas previsões em uma nova coluna a partir do método model.predict"
   ]
  },
  {
   "cell_type": "code",
   "execution_count": null,
   "metadata": {},
   "outputs": [],
   "source": [
    "summary_df['predicao'] = predictions\n",
    "summary_df"
   ]
  },
  {
   "cell_type": "markdown",
   "metadata": {},
   "source": [
    "- Métricas adicionais"
   ]
  },
  {
   "cell_type": "code",
   "execution_count": null,
   "metadata": {},
   "outputs": [],
   "source": [
    "print(\" Pontuação R2:  \", score_r2)\n",
    "print(\"Interceptação:\", regr.intercept_)"
   ]
  },
  {
   "cell_type": "code",
   "execution_count": null,
   "metadata": {},
   "outputs": [],
   "source": [
    "summary_df.plot(kind=\"scatter\", x=\"alvo\", y=\"predicao\")"
   ]
  },
  {
   "cell_type": "code",
   "execution_count": null,
   "metadata": {},
   "outputs": [],
   "source": []
  },
  {
   "cell_type": "code",
   "execution_count": null,
   "metadata": {},
   "outputs": [],
   "source": []
  },
  {
   "cell_type": "markdown",
   "metadata": {},
   "source": [
    "#### Referências:\n",
    "\n",
    "https://medium.com/data-hackers/como-funciona-uma-regressão-linear-f7208fa6c662\n",
    "\n",
    "https://pt.wikipedia.org/wiki/Regressão_linear"
   ]
  },
  {
   "cell_type": "code",
   "execution_count": null,
   "metadata": {},
   "outputs": [],
   "source": []
  }
 ],
 "metadata": {
  "kernelspec": {
   "display_name": "Python 3",
   "language": "python",
   "name": "python3"
  },
  "language_info": {
   "codemirror_mode": {
    "name": "ipython",
    "version": 3
   },
   "file_extension": ".py",
   "mimetype": "text/x-python",
   "name": "python",
   "nbconvert_exporter": "python",
   "pygments_lexer": "ipython3",
   "version": "3.8.3"
  }
 },
 "nbformat": 4,
 "nbformat_minor": 4
}
